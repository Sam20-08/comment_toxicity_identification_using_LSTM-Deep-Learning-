{
  "cells": [
    {
      "cell_type": "code",
      "execution_count": 1,
      "metadata": {
        "id": "GlrbHIZ_nN30"
      },
      "outputs": [],
      "source": [
        "import pandas as pd\n",
        "import matplotlib.pyplot as plt\n",
        "import seaborn\n",
        "import tensorflow as tf\n",
        "import os"
      ]
    },
    {
      "cell_type": "code",
      "execution_count": 2,
      "metadata": {
        "id": "I4I2f3QLvgMJ"
      },
      "outputs": [],
      "source": [
        "import numpy as np"
      ]
    },
    {
      "cell_type": "code",
      "execution_count": 3,
      "metadata": {
        "id": "soIpHa7Au7mM"
      },
      "outputs": [],
      "source": [
        "np.expand_dims??"
      ]
    },
    {
      "cell_type": "code",
      "execution_count": 4,
      "metadata": {
        "id": "YseB_nltveO5"
      },
      "outputs": [],
      "source": [
        "df = pd.read_csv('/content/train.csv', engine='python', on_bad_lines='skip')"
      ]
    },
    {
      "cell_type": "code",
      "execution_count": 5,
      "metadata": {
        "colab": {
          "base_uri": "https://localhost:8080/",
          "height": 206
        },
        "id": "4GJbYkh81IF6",
        "outputId": "234fa60b-23ac-43da-fb82-1b7494c494c5"
      },
      "outputs": [
        {
          "output_type": "execute_result",
          "data": {
            "text/plain": [
              "                 id                                       comment_text  toxic  \\\n",
              "0  0000997932d777bf  Explanation\\nWhy the edits made under my usern...      0   \n",
              "1  000103f0d9cfb60f  D'aww! He matches this background colour I'm s...      0   \n",
              "2  000113f07ec002fd  Hey man, I'm really not trying to edit war. It...      0   \n",
              "3  0001b41b1c6bb37e  \"\\nMore\\nI can't make any real suggestions on ...      0   \n",
              "4  0001d958c54c6e35  You, sir, are my hero. Any chance you remember...      0   \n",
              "\n",
              "   severe_toxic  obscene  threat  insult  identity_hate  \n",
              "0             0        0       0       0              0  \n",
              "1             0        0       0       0              0  \n",
              "2             0        0       0       0              0  \n",
              "3             0        0       0       0              0  \n",
              "4             0        0       0       0              0  "
            ],
            "text/html": [
              "\n",
              "  <div id=\"df-76824fbf-91cb-419b-a8e0-1ddeae169aa2\" class=\"colab-df-container\">\n",
              "    <div>\n",
              "<style scoped>\n",
              "    .dataframe tbody tr th:only-of-type {\n",
              "        vertical-align: middle;\n",
              "    }\n",
              "\n",
              "    .dataframe tbody tr th {\n",
              "        vertical-align: top;\n",
              "    }\n",
              "\n",
              "    .dataframe thead th {\n",
              "        text-align: right;\n",
              "    }\n",
              "</style>\n",
              "<table border=\"1\" class=\"dataframe\">\n",
              "  <thead>\n",
              "    <tr style=\"text-align: right;\">\n",
              "      <th></th>\n",
              "      <th>id</th>\n",
              "      <th>comment_text</th>\n",
              "      <th>toxic</th>\n",
              "      <th>severe_toxic</th>\n",
              "      <th>obscene</th>\n",
              "      <th>threat</th>\n",
              "      <th>insult</th>\n",
              "      <th>identity_hate</th>\n",
              "    </tr>\n",
              "  </thead>\n",
              "  <tbody>\n",
              "    <tr>\n",
              "      <th>0</th>\n",
              "      <td>0000997932d777bf</td>\n",
              "      <td>Explanation\\nWhy the edits made under my usern...</td>\n",
              "      <td>0</td>\n",
              "      <td>0</td>\n",
              "      <td>0</td>\n",
              "      <td>0</td>\n",
              "      <td>0</td>\n",
              "      <td>0</td>\n",
              "    </tr>\n",
              "    <tr>\n",
              "      <th>1</th>\n",
              "      <td>000103f0d9cfb60f</td>\n",
              "      <td>D'aww! He matches this background colour I'm s...</td>\n",
              "      <td>0</td>\n",
              "      <td>0</td>\n",
              "      <td>0</td>\n",
              "      <td>0</td>\n",
              "      <td>0</td>\n",
              "      <td>0</td>\n",
              "    </tr>\n",
              "    <tr>\n",
              "      <th>2</th>\n",
              "      <td>000113f07ec002fd</td>\n",
              "      <td>Hey man, I'm really not trying to edit war. It...</td>\n",
              "      <td>0</td>\n",
              "      <td>0</td>\n",
              "      <td>0</td>\n",
              "      <td>0</td>\n",
              "      <td>0</td>\n",
              "      <td>0</td>\n",
              "    </tr>\n",
              "    <tr>\n",
              "      <th>3</th>\n",
              "      <td>0001b41b1c6bb37e</td>\n",
              "      <td>\"\\nMore\\nI can't make any real suggestions on ...</td>\n",
              "      <td>0</td>\n",
              "      <td>0</td>\n",
              "      <td>0</td>\n",
              "      <td>0</td>\n",
              "      <td>0</td>\n",
              "      <td>0</td>\n",
              "    </tr>\n",
              "    <tr>\n",
              "      <th>4</th>\n",
              "      <td>0001d958c54c6e35</td>\n",
              "      <td>You, sir, are my hero. Any chance you remember...</td>\n",
              "      <td>0</td>\n",
              "      <td>0</td>\n",
              "      <td>0</td>\n",
              "      <td>0</td>\n",
              "      <td>0</td>\n",
              "      <td>0</td>\n",
              "    </tr>\n",
              "  </tbody>\n",
              "</table>\n",
              "</div>\n",
              "    <div class=\"colab-df-buttons\">\n",
              "\n",
              "  <div class=\"colab-df-container\">\n",
              "    <button class=\"colab-df-convert\" onclick=\"convertToInteractive('df-76824fbf-91cb-419b-a8e0-1ddeae169aa2')\"\n",
              "            title=\"Convert this dataframe to an interactive table.\"\n",
              "            style=\"display:none;\">\n",
              "\n",
              "  <svg xmlns=\"http://www.w3.org/2000/svg\" height=\"24px\" viewBox=\"0 -960 960 960\">\n",
              "    <path d=\"M120-120v-720h720v720H120Zm60-500h600v-160H180v160Zm220 220h160v-160H400v160Zm0 220h160v-160H400v160ZM180-400h160v-160H180v160Zm440 0h160v-160H620v160ZM180-180h160v-160H180v160Zm440 0h160v-160H620v160Z\"/>\n",
              "  </svg>\n",
              "    </button>\n",
              "\n",
              "  <style>\n",
              "    .colab-df-container {\n",
              "      display:flex;\n",
              "      gap: 12px;\n",
              "    }\n",
              "\n",
              "    .colab-df-convert {\n",
              "      background-color: #E8F0FE;\n",
              "      border: none;\n",
              "      border-radius: 50%;\n",
              "      cursor: pointer;\n",
              "      display: none;\n",
              "      fill: #1967D2;\n",
              "      height: 32px;\n",
              "      padding: 0 0 0 0;\n",
              "      width: 32px;\n",
              "    }\n",
              "\n",
              "    .colab-df-convert:hover {\n",
              "      background-color: #E2EBFA;\n",
              "      box-shadow: 0px 1px 2px rgba(60, 64, 67, 0.3), 0px 1px 3px 1px rgba(60, 64, 67, 0.15);\n",
              "      fill: #174EA6;\n",
              "    }\n",
              "\n",
              "    .colab-df-buttons div {\n",
              "      margin-bottom: 4px;\n",
              "    }\n",
              "\n",
              "    [theme=dark] .colab-df-convert {\n",
              "      background-color: #3B4455;\n",
              "      fill: #D2E3FC;\n",
              "    }\n",
              "\n",
              "    [theme=dark] .colab-df-convert:hover {\n",
              "      background-color: #434B5C;\n",
              "      box-shadow: 0px 1px 3px 1px rgba(0, 0, 0, 0.15);\n",
              "      filter: drop-shadow(0px 1px 2px rgba(0, 0, 0, 0.3));\n",
              "      fill: #FFFFFF;\n",
              "    }\n",
              "  </style>\n",
              "\n",
              "    <script>\n",
              "      const buttonEl =\n",
              "        document.querySelector('#df-76824fbf-91cb-419b-a8e0-1ddeae169aa2 button.colab-df-convert');\n",
              "      buttonEl.style.display =\n",
              "        google.colab.kernel.accessAllowed ? 'block' : 'none';\n",
              "\n",
              "      async function convertToInteractive(key) {\n",
              "        const element = document.querySelector('#df-76824fbf-91cb-419b-a8e0-1ddeae169aa2');\n",
              "        const dataTable =\n",
              "          await google.colab.kernel.invokeFunction('convertToInteractive',\n",
              "                                                    [key], {});\n",
              "        if (!dataTable) return;\n",
              "\n",
              "        const docLinkHtml = 'Like what you see? Visit the ' +\n",
              "          '<a target=\"_blank\" href=https://colab.research.google.com/notebooks/data_table.ipynb>data table notebook</a>'\n",
              "          + ' to learn more about interactive tables.';\n",
              "        element.innerHTML = '';\n",
              "        dataTable['output_type'] = 'display_data';\n",
              "        await google.colab.output.renderOutput(dataTable, element);\n",
              "        const docLink = document.createElement('div');\n",
              "        docLink.innerHTML = docLinkHtml;\n",
              "        element.appendChild(docLink);\n",
              "      }\n",
              "    </script>\n",
              "  </div>\n",
              "\n",
              "\n",
              "<div id=\"df-d9f88a05-7a99-4622-aefa-79eb21ff675f\">\n",
              "  <button class=\"colab-df-quickchart\" onclick=\"quickchart('df-d9f88a05-7a99-4622-aefa-79eb21ff675f')\"\n",
              "            title=\"Suggest charts\"\n",
              "            style=\"display:none;\">\n",
              "\n",
              "<svg xmlns=\"http://www.w3.org/2000/svg\" height=\"24px\"viewBox=\"0 0 24 24\"\n",
              "     width=\"24px\">\n",
              "    <g>\n",
              "        <path d=\"M19 3H5c-1.1 0-2 .9-2 2v14c0 1.1.9 2 2 2h14c1.1 0 2-.9 2-2V5c0-1.1-.9-2-2-2zM9 17H7v-7h2v7zm4 0h-2V7h2v10zm4 0h-2v-4h2v4z\"/>\n",
              "    </g>\n",
              "</svg>\n",
              "  </button>\n",
              "\n",
              "<style>\n",
              "  .colab-df-quickchart {\n",
              "      --bg-color: #E8F0FE;\n",
              "      --fill-color: #1967D2;\n",
              "      --hover-bg-color: #E2EBFA;\n",
              "      --hover-fill-color: #174EA6;\n",
              "      --disabled-fill-color: #AAA;\n",
              "      --disabled-bg-color: #DDD;\n",
              "  }\n",
              "\n",
              "  [theme=dark] .colab-df-quickchart {\n",
              "      --bg-color: #3B4455;\n",
              "      --fill-color: #D2E3FC;\n",
              "      --hover-bg-color: #434B5C;\n",
              "      --hover-fill-color: #FFFFFF;\n",
              "      --disabled-bg-color: #3B4455;\n",
              "      --disabled-fill-color: #666;\n",
              "  }\n",
              "\n",
              "  .colab-df-quickchart {\n",
              "    background-color: var(--bg-color);\n",
              "    border: none;\n",
              "    border-radius: 50%;\n",
              "    cursor: pointer;\n",
              "    display: none;\n",
              "    fill: var(--fill-color);\n",
              "    height: 32px;\n",
              "    padding: 0;\n",
              "    width: 32px;\n",
              "  }\n",
              "\n",
              "  .colab-df-quickchart:hover {\n",
              "    background-color: var(--hover-bg-color);\n",
              "    box-shadow: 0 1px 2px rgba(60, 64, 67, 0.3), 0 1px 3px 1px rgba(60, 64, 67, 0.15);\n",
              "    fill: var(--button-hover-fill-color);\n",
              "  }\n",
              "\n",
              "  .colab-df-quickchart-complete:disabled,\n",
              "  .colab-df-quickchart-complete:disabled:hover {\n",
              "    background-color: var(--disabled-bg-color);\n",
              "    fill: var(--disabled-fill-color);\n",
              "    box-shadow: none;\n",
              "  }\n",
              "\n",
              "  .colab-df-spinner {\n",
              "    border: 2px solid var(--fill-color);\n",
              "    border-color: transparent;\n",
              "    border-bottom-color: var(--fill-color);\n",
              "    animation:\n",
              "      spin 1s steps(1) infinite;\n",
              "  }\n",
              "\n",
              "  @keyframes spin {\n",
              "    0% {\n",
              "      border-color: transparent;\n",
              "      border-bottom-color: var(--fill-color);\n",
              "      border-left-color: var(--fill-color);\n",
              "    }\n",
              "    20% {\n",
              "      border-color: transparent;\n",
              "      border-left-color: var(--fill-color);\n",
              "      border-top-color: var(--fill-color);\n",
              "    }\n",
              "    30% {\n",
              "      border-color: transparent;\n",
              "      border-left-color: var(--fill-color);\n",
              "      border-top-color: var(--fill-color);\n",
              "      border-right-color: var(--fill-color);\n",
              "    }\n",
              "    40% {\n",
              "      border-color: transparent;\n",
              "      border-right-color: var(--fill-color);\n",
              "      border-top-color: var(--fill-color);\n",
              "    }\n",
              "    60% {\n",
              "      border-color: transparent;\n",
              "      border-right-color: var(--fill-color);\n",
              "    }\n",
              "    80% {\n",
              "      border-color: transparent;\n",
              "      border-right-color: var(--fill-color);\n",
              "      border-bottom-color: var(--fill-color);\n",
              "    }\n",
              "    90% {\n",
              "      border-color: transparent;\n",
              "      border-bottom-color: var(--fill-color);\n",
              "    }\n",
              "  }\n",
              "</style>\n",
              "\n",
              "  <script>\n",
              "    async function quickchart(key) {\n",
              "      const quickchartButtonEl =\n",
              "        document.querySelector('#' + key + ' button');\n",
              "      quickchartButtonEl.disabled = true;  // To prevent multiple clicks.\n",
              "      quickchartButtonEl.classList.add('colab-df-spinner');\n",
              "      try {\n",
              "        const charts = await google.colab.kernel.invokeFunction(\n",
              "            'suggestCharts', [key], {});\n",
              "      } catch (error) {\n",
              "        console.error('Error during call to suggestCharts:', error);\n",
              "      }\n",
              "      quickchartButtonEl.classList.remove('colab-df-spinner');\n",
              "      quickchartButtonEl.classList.add('colab-df-quickchart-complete');\n",
              "    }\n",
              "    (() => {\n",
              "      let quickchartButtonEl =\n",
              "        document.querySelector('#df-d9f88a05-7a99-4622-aefa-79eb21ff675f button');\n",
              "      quickchartButtonEl.style.display =\n",
              "        google.colab.kernel.accessAllowed ? 'block' : 'none';\n",
              "    })();\n",
              "  </script>\n",
              "</div>\n",
              "\n",
              "    </div>\n",
              "  </div>\n"
            ],
            "application/vnd.google.colaboratory.intrinsic+json": {
              "type": "dataframe",
              "variable_name": "df",
              "summary": "{\n  \"name\": \"df\",\n  \"rows\": 7168,\n  \"fields\": [\n    {\n      \"column\": \"id\",\n      \"properties\": {\n        \"dtype\": \"string\",\n        \"num_unique_values\": 7168,\n        \"samples\": [\n          \"12703d55c77ed5b1\",\n          \"01299c922a2310c1\",\n          \"126bc4843758777f\"\n        ],\n        \"semantic_type\": \"\",\n        \"description\": \"\"\n      }\n    },\n    {\n      \"column\": \"comment_text\",\n      \"properties\": {\n        \"dtype\": \"string\",\n        \"num_unique_values\": 7168,\n        \"samples\": [\n          \"SHUT THE FUCK UP!\\nSHUT THE FUCK UP!\\nSHUT THE FUCK UP!\\nSHUT THE FUCK UP!\\nSHUT THE FUCK UP!\\nSHUT THE FUCK UP!\\nSHUT THE FUCK UP!\\nSHUT THE FUCK UP!\\nSHUT THE FUCK UP!\\nSHUT THE FUCK UP!\\nSHUT THE FUCK UP!\\nSHUT THE FUCK UP!\\nSHUT THE FUCK UP!\\nSHUT THE FUCK UP!\\nSHUT THE FUCK UP!\\nSHUT THE FUCK UP!\\nSHUT THE FUCK UP!\\nSHUT THE FUCK UP!\\nSHUT THE FUCK UP!\\nSHUT THE FUCK UP!\\nSHUT THE FUCK UP!\\nSHUT THE FUCK UP!\\nSHUT THE FUCK UP!\\nSHUT THE FUCK UP!vv\\nSHUT THE FUCK UP!\\nSHUT THE FUCK UP!\\nSHUT THE FUCK UP!\\nSHUT THE FUCK UP!\\nSHUT THE FUCK UP!\\nSHUT THE FUCK UP!\\nSHUT THE FUCK UP!\\nSHUT THE FUCK UP!\\nSHUT THE FUCK UP!\\nSHUT THE FUCK UP!\\nSHUT THE FUCK UP!\\nSHUT THE FUCK UP!\\nSHUT THE FUCK UP!\\nSHUT THE FUCK UP!\\nSHUT THE FUCK UP!\\nSHUT THE FUCK UP!\\nSHUT THE FUCK UP!\\nSHUT THE FUCK UP!\\nSHUT THE FUCK UP!\\nSHUT THE FUCK UP!\\nSHUT THE FUCK UP!\\nSHUT THE FUCK UP!\\nSHUT THE FUCK UP!\\nSHUT THE FUCK UP!\\nSHUT THE FUCK UP!\\nSHUT THE FUCK UP!\\nSHUT THE FUCK UP!\\nSHUT THE FUCK UP!\",\n          \"\\\"\\n\\nGreat links, IMO the American people are on the whole good and decent, but the so called leaders are fully controlled by an Elite bent on domination and control. This whistelblower says the same. .  talk \\\"\",\n          \"Somewhat similar rationale applies here as does Edwin Hubble's nationality in the previous talk section.  Which Orbiter is not critical to summarizing what the HST is in the Lead.  But it does not matter too much to me. -\"\n        ],\n        \"semantic_type\": \"\",\n        \"description\": \"\"\n      }\n    },\n    {\n      \"column\": \"toxic\",\n      \"properties\": {\n        \"dtype\": \"number\",\n        \"std\": 0,\n        \"min\": 0,\n        \"max\": 1,\n        \"num_unique_values\": 2,\n        \"samples\": [\n          1,\n          0\n        ],\n        \"semantic_type\": \"\",\n        \"description\": \"\"\n      }\n    },\n    {\n      \"column\": \"severe_toxic\",\n      \"properties\": {\n        \"dtype\": \"number\",\n        \"std\": 0,\n        \"min\": 0,\n        \"max\": 1,\n        \"num_unique_values\": 2,\n        \"samples\": [\n          1,\n          0\n        ],\n        \"semantic_type\": \"\",\n        \"description\": \"\"\n      }\n    },\n    {\n      \"column\": \"obscene\",\n      \"properties\": {\n        \"dtype\": \"number\",\n        \"std\": 0,\n        \"min\": 0,\n        \"max\": 1,\n        \"num_unique_values\": 2,\n        \"samples\": [\n          1,\n          0\n        ],\n        \"semantic_type\": \"\",\n        \"description\": \"\"\n      }\n    },\n    {\n      \"column\": \"threat\",\n      \"properties\": {\n        \"dtype\": \"number\",\n        \"std\": 0,\n        \"min\": 0,\n        \"max\": 1,\n        \"num_unique_values\": 2,\n        \"samples\": [\n          1,\n          0\n        ],\n        \"semantic_type\": \"\",\n        \"description\": \"\"\n      }\n    },\n    {\n      \"column\": \"insult\",\n      \"properties\": {\n        \"dtype\": \"number\",\n        \"std\": 0,\n        \"min\": 0,\n        \"max\": 1,\n        \"num_unique_values\": 2,\n        \"samples\": [\n          1,\n          0\n        ],\n        \"semantic_type\": \"\",\n        \"description\": \"\"\n      }\n    },\n    {\n      \"column\": \"identity_hate\",\n      \"properties\": {\n        \"dtype\": \"number\",\n        \"std\": 0,\n        \"min\": 0,\n        \"max\": 1,\n        \"num_unique_values\": 2,\n        \"samples\": [\n          1,\n          0\n        ],\n        \"semantic_type\": \"\",\n        \"description\": \"\"\n      }\n    }\n  ]\n}"
            }
          },
          "metadata": {},
          "execution_count": 5
        }
      ],
      "source": [
        "df.head()"
      ]
    },
    {
      "cell_type": "code",
      "execution_count": 6,
      "metadata": {
        "colab": {
          "base_uri": "https://localhost:8080/",
          "height": 53
        },
        "id": "S8Ly4Wjr1IuP",
        "outputId": "40cfad18-7fd4-4a74-88c3-d1e785d4c454"
      },
      "outputs": [
        {
          "output_type": "execute_result",
          "data": {
            "text/plain": [
              "\"Explanation\\nWhy the edits made under my username Hardcore Metallica Fan were reverted? They weren't vandalisms, just closure on some GAs after I voted at New York Dolls FAC. And please don't remove the template from the talk page since I'm retired now.89.205.38.27\""
            ],
            "application/vnd.google.colaboratory.intrinsic+json": {
              "type": "string"
            }
          },
          "metadata": {},
          "execution_count": 6
        }
      ],
      "source": [
        "df.iloc[0]['comment_text']"
      ]
    },
    {
      "cell_type": "code",
      "execution_count": 7,
      "metadata": {
        "colab": {
          "base_uri": "https://localhost:8080/"
        },
        "id": "iPERvbf_2Jn4",
        "outputId": "0fdc022f-168b-4926-9f72-1acc7fc29a7a"
      },
      "outputs": [
        {
          "output_type": "execute_result",
          "data": {
            "text/plain": [
              "toxic            0\n",
              "severe_toxic     0\n",
              "obscene          0\n",
              "threat           0\n",
              "insult           0\n",
              "identity_hate    0\n",
              "Name: 0, dtype: int64"
            ]
          },
          "metadata": {},
          "execution_count": 7
        }
      ],
      "source": [
        "df[df.columns[2:]].iloc[0]"
      ]
    },
    {
      "cell_type": "code",
      "execution_count": 8,
      "metadata": {
        "colab": {
          "base_uri": "https://localhost:8080/",
          "height": 36
        },
        "id": "kjYwiXMB1Ozp",
        "outputId": "4fc001c1-2b90-4c8e-cee6-0ce865945c4c"
      },
      "outputs": [
        {
          "output_type": "execute_result",
          "data": {
            "text/plain": [
              "\"D'aww! He matches this background colour I'm seemingly stuck with. Thanks.  (talk) 21:51, January 11, 2016 (UTC)\""
            ],
            "application/vnd.google.colaboratory.intrinsic+json": {
              "type": "string"
            }
          },
          "metadata": {},
          "execution_count": 8
        }
      ],
      "source": [
        "df.iloc[1]['comment_text']"
      ]
    },
    {
      "cell_type": "code",
      "execution_count": 9,
      "metadata": {
        "colab": {
          "base_uri": "https://localhost:8080/"
        },
        "id": "2lW6TXDR1ref",
        "outputId": "41b46753-1229-4196-d05e-e87e26dd4462"
      },
      "outputs": [
        {
          "output_type": "execute_result",
          "data": {
            "text/plain": [
              "toxic            0\n",
              "severe_toxic     0\n",
              "obscene          0\n",
              "threat           0\n",
              "insult           0\n",
              "identity_hate    0\n",
              "Name: 1, dtype: int64"
            ]
          },
          "metadata": {},
          "execution_count": 9
        }
      ],
      "source": [
        "df[df.columns[2:]].iloc[1]"
      ]
    },
    {
      "cell_type": "code",
      "execution_count": 10,
      "metadata": {
        "colab": {
          "base_uri": "https://localhost:8080/",
          "height": 36
        },
        "id": "cEvqTJUi2B2s",
        "outputId": "723ebaea-ed11-4bd9-d3ab-7cace754a412"
      },
      "outputs": [
        {
          "output_type": "execute_result",
          "data": {
            "text/plain": [
              "'COCKSUCKER BEFORE YOU PISS AROUND ON MY WORK'"
            ],
            "application/vnd.google.colaboratory.intrinsic+json": {
              "type": "string"
            }
          },
          "metadata": {},
          "execution_count": 10
        }
      ],
      "source": [
        "df.iloc[6]['comment_text']"
      ]
    },
    {
      "cell_type": "code",
      "execution_count": 11,
      "metadata": {
        "colab": {
          "base_uri": "https://localhost:8080/"
        },
        "id": "IB_JB3vF23jb",
        "outputId": "a6d4fd8e-3b1e-47f1-c7ea-e88d179c4c7a"
      },
      "outputs": [
        {
          "output_type": "execute_result",
          "data": {
            "text/plain": [
              "toxic            1\n",
              "severe_toxic     1\n",
              "obscene          1\n",
              "threat           0\n",
              "insult           1\n",
              "identity_hate    0\n",
              "Name: 6, dtype: int64"
            ]
          },
          "metadata": {},
          "execution_count": 11
        }
      ],
      "source": [
        "df[df.columns[2:]].iloc[6]"
      ]
    },
    {
      "cell_type": "markdown",
      "metadata": {
        "id": "i5NpGfkq3i26"
      },
      "source": [
        "# Preprocessing"
      ]
    },
    {
      "cell_type": "code",
      "execution_count": 12,
      "metadata": {
        "id": "aTu6ctTc3v_x"
      },
      "outputs": [],
      "source": [
        "from tensorflow.keras.layers import TextVectorization"
      ]
    },
    {
      "cell_type": "code",
      "execution_count": 13,
      "metadata": {
        "id": "jI2JJgQF3wO6"
      },
      "outputs": [],
      "source": [
        "x=df['comment_text']\n",
        "y=df[df.columns[2:]].values"
      ]
    },
    {
      "cell_type": "code",
      "execution_count": 14,
      "metadata": {
        "colab": {
          "base_uri": "https://localhost:8080/"
        },
        "id": "2Xj9cq_u4Dyj",
        "outputId": "5a415372-d6d2-47bd-ae8f-f413ac680324"
      },
      "outputs": [
        {
          "output_type": "execute_result",
          "data": {
            "text/plain": [
              "0       Explanation\\nWhy the edits made under my usern...\n",
              "1       D'aww! He matches this background colour I'm s...\n",
              "2       Hey man, I'm really not trying to edit war. It...\n",
              "3       \"\\nMore\\nI can't make any real suggestions on ...\n",
              "4       You, sir, are my hero. Any chance you remember...\n",
              "                              ...                        \n",
              "7163    \"\\n\\n Please do not vandalize pages, as you di...\n",
              "7164    \"\\n I don't know the context, but you might fi...\n",
              "7165    Your source come from a Greek anti Albanian we...\n",
              "7166    There are no third party sources. And the ones...\n",
              "7167    Good idea. Let's continue the discussion at Ta...\n",
              "Name: comment_text, Length: 7168, dtype: object"
            ]
          },
          "metadata": {},
          "execution_count": 14
        }
      ],
      "source": [
        "x"
      ]
    },
    {
      "cell_type": "code",
      "execution_count": 15,
      "metadata": {
        "colab": {
          "base_uri": "https://localhost:8080/"
        },
        "id": "UA6lzi814reu",
        "outputId": "97d363ec-7bc9-4cbd-ae31-adbd79d55732"
      },
      "outputs": [
        {
          "output_type": "execute_result",
          "data": {
            "text/plain": [
              "array([[0, 0, 0, 0, 0, 0],\n",
              "       [0, 0, 0, 0, 0, 0],\n",
              "       [0, 0, 0, 0, 0, 0],\n",
              "       ...,\n",
              "       [0, 0, 0, 0, 0, 0],\n",
              "       [0, 0, 0, 0, 0, 0],\n",
              "       [0, 0, 0, 0, 0, 0]])"
            ]
          },
          "metadata": {},
          "execution_count": 15
        }
      ],
      "source": [
        "y"
      ]
    },
    {
      "cell_type": "code",
      "execution_count": 16,
      "metadata": {
        "id": "Z0LOYzmx43IL"
      },
      "outputs": [],
      "source": [
        "max_features=200000  #number of words in vocab"
      ]
    },
    {
      "cell_type": "code",
      "execution_count": 17,
      "metadata": {
        "id": "r4ZhTQmh5SSS"
      },
      "outputs": [],
      "source": [
        "vectorization=TextVectorization(max_tokens=max_features,\n",
        "                                output_sequence_length=1800,  # defining the length of words in each comments...\n",
        "                                output_mode='int')"
      ]
    },
    {
      "cell_type": "markdown",
      "metadata": {
        "id": "kj1gJakD7xW2"
      },
      "source": [
        "## Texxt vectorization also removes punctuations"
      ]
    },
    {
      "cell_type": "code",
      "execution_count": 18,
      "metadata": {
        "id": "-5XmWc_05f_-"
      },
      "outputs": [],
      "source": [
        "vectorization.adapt(x.values)"
      ]
    },
    {
      "cell_type": "code",
      "execution_count": 19,
      "metadata": {
        "colab": {
          "base_uri": "https://localhost:8080/"
        },
        "id": "tUooJgJn7b85",
        "outputId": "97017535-8aec-41dc-d864-fbd79a615afa"
      },
      "outputs": [
        {
          "output_type": "execute_result",
          "data": {
            "text/plain": [
              "<tf.Tensor: shape=(4,), dtype=int64, numpy=array([318,  73,  19,   8])>"
            ]
          },
          "metadata": {},
          "execution_count": 19
        }
      ],
      "source": [
        "vectorization(\"Hello How are you\")[:4]"
      ]
    },
    {
      "cell_type": "code",
      "execution_count": 20,
      "metadata": {
        "colab": {
          "base_uri": "https://localhost:8080/",
          "height": 203
        },
        "id": "lsHS5cvJ6uLf",
        "outputId": "78da0d3b-2065-4786-ec9c-399008365a49"
      },
      "outputs": [
        {
          "output_type": "execute_result",
          "data": {
            "text/plain": [
              "pandas.core.series.Series"
            ],
            "text/html": [
              "<div style=\"max-width:800px; border: 1px solid var(--colab-border-color);\"><style>\n",
              "      pre.function-repr-contents {\n",
              "        overflow-x: auto;\n",
              "        padding: 8px 12px;\n",
              "        max-height: 500px;\n",
              "      }\n",
              "\n",
              "      pre.function-repr-contents.function-repr-contents-collapsed {\n",
              "        cursor: pointer;\n",
              "        max-height: 100px;\n",
              "      }\n",
              "    </style>\n",
              "    <pre style=\"white-space: initial; background:\n",
              "         var(--colab-secondary-surface-color); padding: 8px 12px;\n",
              "         border-bottom: 1px solid var(--colab-border-color);\"><b>pandas.core.series.Series</b><br/>def __init__(data=None, index=None, dtype: Dtype | None=None, name=None, copy: bool | None=None, fastpath: bool=False) -&gt; None</pre><pre class=\"function-repr-contents function-repr-contents-collapsed\" style=\"\"><a class=\"filepath\" style=\"display:none\" href=\"#\">/usr/local/lib/python3.10/dist-packages/pandas/core/series.py</a>One-dimensional ndarray with axis labels (including time series).\n",
              "\n",
              "Labels need not be unique but must be a hashable type. The object\n",
              "supports both integer- and label-based indexing and provides a host of\n",
              "methods for performing operations involving the index. Statistical\n",
              "methods from ndarray have been overridden to automatically exclude\n",
              "missing data (currently represented as NaN).\n",
              "\n",
              "Operations between Series (+, -, /, \\*, \\*\\*) align values based on their\n",
              "associated index values-- they need not be the same length. The result\n",
              "index will be the sorted union of the two indexes.\n",
              "\n",
              "Parameters\n",
              "----------\n",
              "data : array-like, Iterable, dict, or scalar value\n",
              "    Contains data stored in Series. If data is a dict, argument order is\n",
              "    maintained.\n",
              "index : array-like or Index (1d)\n",
              "    Values must be hashable and have the same length as `data`.\n",
              "    Non-unique index values are allowed. Will default to\n",
              "    RangeIndex (0, 1, 2, ..., n) if not provided. If data is dict-like\n",
              "    and index is None, then the keys in the data are used as the index. If the\n",
              "    index is not None, the resulting Series is reindexed with the index values.\n",
              "dtype : str, numpy.dtype, or ExtensionDtype, optional\n",
              "    Data type for the output Series. If not specified, this will be\n",
              "    inferred from `data`.\n",
              "    See the :ref:`user guide &lt;basics.dtypes&gt;` for more usages.\n",
              "name : Hashable, default None\n",
              "    The name to give to the Series.\n",
              "copy : bool, default False\n",
              "    Copy input data. Only affects Series or 1d ndarray input. See examples.\n",
              "\n",
              "Notes\n",
              "-----\n",
              "Please reference the :ref:`User Guide &lt;basics.series&gt;` for more information.\n",
              "\n",
              "Examples\n",
              "--------\n",
              "Constructing Series from a dictionary with an Index specified\n",
              "\n",
              "&gt;&gt;&gt; d = {&#x27;a&#x27;: 1, &#x27;b&#x27;: 2, &#x27;c&#x27;: 3}\n",
              "&gt;&gt;&gt; ser = pd.Series(data=d, index=[&#x27;a&#x27;, &#x27;b&#x27;, &#x27;c&#x27;])\n",
              "&gt;&gt;&gt; ser\n",
              "a   1\n",
              "b   2\n",
              "c   3\n",
              "dtype: int64\n",
              "\n",
              "The keys of the dictionary match with the Index values, hence the Index\n",
              "values have no effect.\n",
              "\n",
              "&gt;&gt;&gt; d = {&#x27;a&#x27;: 1, &#x27;b&#x27;: 2, &#x27;c&#x27;: 3}\n",
              "&gt;&gt;&gt; ser = pd.Series(data=d, index=[&#x27;x&#x27;, &#x27;y&#x27;, &#x27;z&#x27;])\n",
              "&gt;&gt;&gt; ser\n",
              "x   NaN\n",
              "y   NaN\n",
              "z   NaN\n",
              "dtype: float64\n",
              "\n",
              "Note that the Index is first build with the keys from the dictionary.\n",
              "After this the Series is reindexed with the given Index values, hence we\n",
              "get all NaN as a result.\n",
              "\n",
              "Constructing Series from a list with `copy=False`.\n",
              "\n",
              "&gt;&gt;&gt; r = [1, 2]\n",
              "&gt;&gt;&gt; ser = pd.Series(r, copy=False)\n",
              "&gt;&gt;&gt; ser.iloc[0] = 999\n",
              "&gt;&gt;&gt; r\n",
              "[1, 2]\n",
              "&gt;&gt;&gt; ser\n",
              "0    999\n",
              "1      2\n",
              "dtype: int64\n",
              "\n",
              "Due to input data type the Series has a `copy` of\n",
              "the original data even though `copy=False`, so\n",
              "the data is unchanged.\n",
              "\n",
              "Constructing Series from a 1d ndarray with `copy=False`.\n",
              "\n",
              "&gt;&gt;&gt; r = np.array([1, 2])\n",
              "&gt;&gt;&gt; ser = pd.Series(r, copy=False)\n",
              "&gt;&gt;&gt; ser.iloc[0] = 999\n",
              "&gt;&gt;&gt; r\n",
              "array([999,   2])\n",
              "&gt;&gt;&gt; ser\n",
              "0    999\n",
              "1      2\n",
              "dtype: int64\n",
              "\n",
              "Due to input data type the Series has a `view` on\n",
              "the original data, so\n",
              "the data is changed as well.</pre>\n",
              "      <script>\n",
              "      if (google.colab.kernel.accessAllowed && google.colab.files && google.colab.files.view) {\n",
              "        for (const element of document.querySelectorAll('.filepath')) {\n",
              "          element.style.display = 'block'\n",
              "          element.onclick = (event) => {\n",
              "            event.preventDefault();\n",
              "            event.stopPropagation();\n",
              "            google.colab.files.view(element.textContent, 244);\n",
              "          };\n",
              "        }\n",
              "      }\n",
              "      for (const element of document.querySelectorAll('.function-repr-contents')) {\n",
              "        element.onclick = (event) => {\n",
              "          event.preventDefault();\n",
              "          event.stopPropagation();\n",
              "          element.classList.toggle('function-repr-contents-collapsed');\n",
              "        };\n",
              "      }\n",
              "      </script>\n",
              "      </div>"
            ]
          },
          "metadata": {},
          "execution_count": 20
        }
      ],
      "source": [
        "type(x)"
      ]
    },
    {
      "cell_type": "code",
      "execution_count": 21,
      "metadata": {
        "colab": {
          "base_uri": "https://localhost:8080/"
        },
        "id": "AZgSm_-P6vWz",
        "outputId": "a880395a-c67a-4029-e65e-ba12c91b7acf"
      },
      "outputs": [
        {
          "output_type": "execute_result",
          "data": {
            "text/plain": [
              "numpy.ndarray"
            ]
          },
          "metadata": {},
          "execution_count": 21
        }
      ],
      "source": [
        "type(x.values)"
      ]
    },
    {
      "cell_type": "code",
      "execution_count": 22,
      "metadata": {
        "colab": {
          "base_uri": "https://localhost:8080/"
        },
        "collapsed": true,
        "id": "MKHXMRxC6xGs",
        "outputId": "57b1a0c5-6677-4253-f58b-1428ea16b66a"
      },
      "outputs": [
        {
          "output_type": "execute_result",
          "data": {
            "text/plain": [
              "['',\n",
              " '[UNK]',\n",
              " 'the',\n",
              " 'to',\n",
              " 'of',\n",
              " 'and',\n",
              " 'a',\n",
              " 'i',\n",
              " 'you',\n",
              " 'is',\n",
              " 'that',\n",
              " 'in',\n",
              " 'it',\n",
              " 'for',\n",
              " 'this',\n",
              " 'not',\n",
              " 'on',\n",
              " 'be',\n",
              " 'as',\n",
              " 'are',\n",
              " 'have',\n",
              " 'with',\n",
              " 'your',\n",
              " 'if',\n",
              " 'was',\n",
              " 'article',\n",
              " 'or',\n",
              " 'but',\n",
              " 'page',\n",
              " 'my',\n",
              " 'an',\n",
              " 'do',\n",
              " 'by',\n",
              " 'from',\n",
              " 'at',\n",
              " 'me',\n",
              " 'about',\n",
              " 'so',\n",
              " 'what',\n",
              " 'can',\n",
              " 'wikipedia',\n",
              " 'there',\n",
              " 'all',\n",
              " 'has',\n",
              " 'will',\n",
              " 'would',\n",
              " 'like',\n",
              " 'its',\n",
              " 'one',\n",
              " 'no',\n",
              " 'talk',\n",
              " 'just',\n",
              " 'please',\n",
              " 'they',\n",
              " 'he',\n",
              " 'any',\n",
              " 'been',\n",
              " 'dont',\n",
              " 'which',\n",
              " 'we',\n",
              " 'his',\n",
              " 'other',\n",
              " 'more',\n",
              " 'here',\n",
              " 'see',\n",
              " 'should',\n",
              " 'some',\n",
              " 'who',\n",
              " 'also',\n",
              " 'im',\n",
              " 'because',\n",
              " 'know',\n",
              " 'think',\n",
              " 'how',\n",
              " 'then',\n",
              " 'up',\n",
              " 'why',\n",
              " 'edit',\n",
              " 'were',\n",
              " 'out',\n",
              " 'am',\n",
              " 'people',\n",
              " 'only',\n",
              " 'articles',\n",
              " 'fuck',\n",
              " 'ass',\n",
              " 'use',\n",
              " 'sex',\n",
              " 'go',\n",
              " 'did',\n",
              " 'now',\n",
              " 'when',\n",
              " 'their',\n",
              " 'time',\n",
              " 'being',\n",
              " 'may',\n",
              " 'than',\n",
              " 'get',\n",
              " 'thanks',\n",
              " 'even',\n",
              " 'make',\n",
              " 'hate',\n",
              " 'them',\n",
              " 'had',\n",
              " 'information',\n",
              " 'good',\n",
              " 'could',\n",
              " 'well',\n",
              " 'very',\n",
              " 'first',\n",
              " 'deletion',\n",
              " 'sources',\n",
              " 'way',\n",
              " 'want',\n",
              " 'yourself',\n",
              " 'does',\n",
              " 'pages',\n",
              " 'name',\n",
              " 'made',\n",
              " 'new',\n",
              " 'such',\n",
              " 'say',\n",
              " 'really',\n",
              " 'again',\n",
              " 'ive',\n",
              " 'user',\n",
              " 'section',\n",
              " 'where',\n",
              " 'these',\n",
              " 'used',\n",
              " 'need',\n",
              " 'much',\n",
              " 'source',\n",
              " 'edits',\n",
              " 'since',\n",
              " 'help',\n",
              " 'many',\n",
              " 'same',\n",
              " 'before',\n",
              " 'said',\n",
              " 'right',\n",
              " 'after',\n",
              " 'find',\n",
              " 'into',\n",
              " 'thank',\n",
              " 'those',\n",
              " 'editing',\n",
              " 'read',\n",
              " 'him',\n",
              " 'most',\n",
              " 'someone',\n",
              " 'discussion',\n",
              " 'two',\n",
              " 'too',\n",
              " 'still',\n",
              " 'own',\n",
              " 'fact',\n",
              " 'take',\n",
              " 'something',\n",
              " 'going',\n",
              " 'look',\n",
              " 'deleted',\n",
              " 'point',\n",
              " 'over',\n",
              " 'u',\n",
              " 'back',\n",
              " 'work',\n",
              " 'thats',\n",
              " 'sexsex',\n",
              " 'content',\n",
              " 'link',\n",
              " 'case',\n",
              " 'stop',\n",
              " 'image',\n",
              " 'under',\n",
              " 'better',\n",
              " 'might',\n",
              " 'utc',\n",
              " 'editors',\n",
              " 'never',\n",
              " 'another',\n",
              " 'youre',\n",
              " 'place',\n",
              " 'history',\n",
              " 'personal',\n",
              " 'both',\n",
              " 'blocked',\n",
              " 'us',\n",
              " 'list',\n",
              " 'block',\n",
              " 'sure',\n",
              " 'our',\n",
              " 'note',\n",
              " 'her',\n",
              " 'added',\n",
              " 'removed',\n",
              " 'without',\n",
              " 'using',\n",
              " 'add',\n",
              " 'question',\n",
              " 'doesnt',\n",
              " 'ask',\n",
              " 'reason',\n",
              " 'put',\n",
              " 'comment',\n",
              " 'cant',\n",
              " 'thing',\n",
              " 'person',\n",
              " 'done',\n",
              " 'anything',\n",
              " 'feel',\n",
              " 'while',\n",
              " 'however',\n",
              " 'off',\n",
              " 'didnt',\n",
              " 'come',\n",
              " 'part',\n",
              " 'welcome',\n",
              " 'against',\n",
              " 'though',\n",
              " 'vandalism',\n",
              " 'bot',\n",
              " 'hope',\n",
              " 'actually',\n",
              " 'policy',\n",
              " 'ill',\n",
              " 'things',\n",
              " 'little',\n",
              " 'believe',\n",
              " 'problem',\n",
              " 'she',\n",
              " 'seems',\n",
              " 'links',\n",
              " 'years',\n",
              " 'anyone',\n",
              " 'sorry',\n",
              " 'post',\n",
              " 'useless',\n",
              " 'free',\n",
              " 'best',\n",
              " 'homeland',\n",
              " 'making',\n",
              " 'comments',\n",
              " 'securityfuck',\n",
              " 'wiki',\n",
              " 'must',\n",
              " 'different',\n",
              " 'rather',\n",
              " 'change',\n",
              " 'users',\n",
              " 'others',\n",
              " 'last',\n",
              " 'isnt',\n",
              " 'hi',\n",
              " 'give',\n",
              " 'got',\n",
              " 'mean',\n",
              " 'long',\n",
              " 'agree',\n",
              " 'far',\n",
              " 'trying',\n",
              " 'remove',\n",
              " 'reference',\n",
              " 'delete',\n",
              " 'already',\n",
              " 'understand',\n",
              " 'few',\n",
              " 'editor',\n",
              " 'write',\n",
              " 'english',\n",
              " 'life',\n",
              " 'issue',\n",
              " 'nothing',\n",
              " 'keep',\n",
              " 'wrong',\n",
              " 'reliable',\n",
              " 'references',\n",
              " 'etc',\n",
              " 'great',\n",
              " 'above',\n",
              " 'subject',\n",
              " 'world',\n",
              " 'simply',\n",
              " 'every',\n",
              " 'try',\n",
              " 'example',\n",
              " 'between',\n",
              " 'let',\n",
              " 'through',\n",
              " 'speedy',\n",
              " 'either',\n",
              " 'clearly',\n",
              " 'says',\n",
              " 'evidence',\n",
              " 'original',\n",
              " 'leave',\n",
              " 'word',\n",
              " 'least',\n",
              " 'probably',\n",
              " 'bit',\n",
              " 'yes',\n",
              " 'around',\n",
              " 'opinion',\n",
              " 'id',\n",
              " 'having',\n",
              " 'enough',\n",
              " 'tag',\n",
              " 'text',\n",
              " 'doing',\n",
              " 'day',\n",
              " 'states',\n",
              " 'saying',\n",
              " 'fair',\n",
              " 'encyclopedia',\n",
              " 'else',\n",
              " 'found',\n",
              " 'account',\n",
              " '1',\n",
              " 'hello',\n",
              " '2',\n",
              " 'yet',\n",
              " 'continue',\n",
              " 'ip',\n",
              " 'material',\n",
              " 'down',\n",
              " 'called',\n",
              " 'support',\n",
              " 'state',\n",
              " 'show',\n",
              " 'created',\n",
              " 'thought',\n",
              " 'once',\n",
              " 'lot',\n",
              " 'site',\n",
              " 'questions',\n",
              " 'perhaps',\n",
              " 'important',\n",
              " 'check',\n",
              " 'true',\n",
              " 'statement',\n",
              " 'number',\n",
              " 'further',\n",
              " 'ever',\n",
              " 'book',\n",
              " 'message',\n",
              " 'version',\n",
              " 'copyright',\n",
              " 'term',\n",
              " 'call',\n",
              " 'adding',\n",
              " 'request',\n",
              " 'war',\n",
              " 'real',\n",
              " 'matter',\n",
              " 'consider',\n",
              " 'whether',\n",
              " 'several',\n",
              " 'needs',\n",
              " 'clear',\n",
              " 'reverted',\n",
              " 'images',\n",
              " 'quite',\n",
              " 'given',\n",
              " 'claim',\n",
              " 'tell',\n",
              " 'written',\n",
              " 'idea',\n",
              " 'each',\n",
              " 'words',\n",
              " 'times',\n",
              " 'maybe',\n",
              " 'correct',\n",
              " 'facts',\n",
              " 'title',\n",
              " 'research',\n",
              " 'changes',\n",
              " 'theres',\n",
              " 'second',\n",
              " 'instead',\n",
              " 'bad',\n",
              " 'address',\n",
              " 'consensus',\n",
              " 'makes',\n",
              " 'contributions',\n",
              " 'review',\n",
              " '3',\n",
              " 'view',\n",
              " 'possible',\n",
              " 'considered',\n",
              " 'cannot',\n",
              " 'notice',\n",
              " 'main',\n",
              " 'left',\n",
              " 'mention',\n",
              " 'following',\n",
              " 'criteria',\n",
              " 'website',\n",
              " 'until',\n",
              " 'means',\n",
              " 'always',\n",
              " 'year',\n",
              " 'seem',\n",
              " 'admin',\n",
              " 'language',\n",
              " 'based',\n",
              " 'notable',\n",
              " 'looking',\n",
              " 'explain',\n",
              " 'current',\n",
              " 'although',\n",
              " 'revert',\n",
              " 'regarding',\n",
              " 'old',\n",
              " 'course',\n",
              " 'wikipedias',\n",
              " 'three',\n",
              " 'pov',\n",
              " 'issues',\n",
              " 'including',\n",
              " 'guidelines',\n",
              " 'getting',\n",
              " '—',\n",
              " 'less',\n",
              " 'fucking',\n",
              " 'later',\n",
              " 'include',\n",
              " 'seen',\n",
              " 'ok',\n",
              " 'top',\n",
              " 'changed',\n",
              " 'project',\n",
              " 'claims',\n",
              " 'care',\n",
              " 'rules',\n",
              " 'man',\n",
              " 'general',\n",
              " 'date',\n",
              " 'attack',\n",
              " 'move',\n",
              " 'mentioned',\n",
              " 'end',\n",
              " 'political',\n",
              " 'myself',\n",
              " 'create',\n",
              " 'big',\n",
              " 'whole',\n",
              " 'provide',\n",
              " 'sense',\n",
              " 'group',\n",
              " 'start',\n",
              " 'recent',\n",
              " 'listed',\n",
              " 'known',\n",
              " 'suggest',\n",
              " 'specific',\n",
              " 'currently',\n",
              " 'stuff',\n",
              " 'kind',\n",
              " 'wont',\n",
              " 'answer',\n",
              " 'names',\n",
              " 'interest',\n",
              " 'according',\n",
              " 'redirect',\n",
              " 'public',\n",
              " 'position',\n",
              " 'lead',\n",
              " 'country',\n",
              " 'able',\n",
              " 'taken',\n",
              " 'per',\n",
              " 'oh',\n",
              " 'template',\n",
              " 'line',\n",
              " 'anyway',\n",
              " 'warning',\n",
              " 'attacks',\n",
              " 'wish',\n",
              " 'school',\n",
              " 'proposed',\n",
              " 'happy',\n",
              " 'full',\n",
              " 'wasnt',\n",
              " 'common',\n",
              " '4',\n",
              " '2005',\n",
              " 'nor',\n",
              " 'mind',\n",
              " 'during',\n",
              " 'order',\n",
              " 'included',\n",
              " 'within',\n",
              " 'style',\n",
              " 'response',\n",
              " 'party',\n",
              " 'appears',\n",
              " 'working',\n",
              " 'sentence',\n",
              " 'completely',\n",
              " 'appropriate',\n",
              " 'youve',\n",
              " 'relevant',\n",
              " 'next',\n",
              " 'present',\n",
              " 'media',\n",
              " 'love',\n",
              " 'king',\n",
              " 'hey',\n",
              " 'certainly',\n",
              " 'american',\n",
              " 'pretty',\n",
              " 'obviously',\n",
              " 'knowledge',\n",
              " 'info',\n",
              " 'form',\n",
              " 'days',\n",
              " 'wanted',\n",
              " 'username',\n",
              " 'single',\n",
              " 'removing',\n",
              " 'reasons',\n",
              " 'nice',\n",
              " 'especially',\n",
              " 'side',\n",
              " 'related',\n",
              " 'official',\n",
              " 'looks',\n",
              " 'government',\n",
              " 'everything',\n",
              " 'ago',\n",
              " 'writing',\n",
              " 'truth',\n",
              " 'talking',\n",
              " 'summary',\n",
              " 'started',\n",
              " 'sign',\n",
              " 'picture',\n",
              " 'news',\n",
              " 'live',\n",
              " 'interested',\n",
              " 'become',\n",
              " 'quote',\n",
              " 'neutral',\n",
              " 'away',\n",
              " 'united',\n",
              " 'topic',\n",
              " 'past',\n",
              " 'lets',\n",
              " 'email',\n",
              " 'today',\n",
              " 'therefore',\n",
              " 'stated',\n",
              " 'policies',\n",
              " 'havent',\n",
              " 'future',\n",
              " 'four',\n",
              " 'remember',\n",
              " 'major',\n",
              " 'community',\n",
              " 'came',\n",
              " '5',\n",
              " '2007',\n",
              " 'whatever',\n",
              " 'report',\n",
              " 'discuss',\n",
              " '2008',\n",
              " 'process',\n",
              " 'dispute',\n",
              " 'wrote',\n",
              " 'tried',\n",
              " 'taking',\n",
              " 'sort',\n",
              " 'notability',\n",
              " 'fucker',\n",
              " 'city',\n",
              " 'almost',\n",
              " 'actual',\n",
              " 'similar',\n",
              " 'noticed',\n",
              " 'asked',\n",
              " 'works',\n",
              " 'unless',\n",
              " 'published',\n",
              " 'itself',\n",
              " 'guy',\n",
              " 'guess',\n",
              " 'faith',\n",
              " 'company',\n",
              " 'cheers',\n",
              " 'went',\n",
              " 'rule',\n",
              " 'placed',\n",
              " 'open',\n",
              " 'homo',\n",
              " 'hard',\n",
              " 'game',\n",
              " 'false',\n",
              " 'definition',\n",
              " 'books',\n",
              " 'along',\n",
              " 'due',\n",
              " 'below',\n",
              " 'argument',\n",
              " 'appreciate',\n",
              " '2006',\n",
              " 'romney',\n",
              " 'posted',\n",
              " 'paragraph',\n",
              " 'mitt',\n",
              " 'learn',\n",
              " 'involved',\n",
              " 'improve',\n",
              " 'exactly',\n",
              " 'everyone',\n",
              " '•',\n",
              " 'wp',\n",
              " 'theory',\n",
              " 'reverting',\n",
              " 'reading',\n",
              " 'ie',\n",
              " 'cited',\n",
              " 'banned',\n",
              " 'web',\n",
              " 'views',\n",
              " 'stay',\n",
              " 'short',\n",
              " 'problems',\n",
              " 'often',\n",
              " 'entry',\n",
              " 'entire',\n",
              " 'conflict',\n",
              " 'band',\n",
              " 'type',\n",
              " 'stupid',\n",
              " 'story',\n",
              " 'statements',\n",
              " 'reply',\n",
              " 'internet',\n",
              " 'soon',\n",
              " 'shit',\n",
              " 'music',\n",
              " 'deleting',\n",
              " 'small',\n",
              " 'search',\n",
              " 'obvious',\n",
              " 'yeah',\n",
              " 'took',\n",
              " 'cities',\n",
              " 'certain',\n",
              " 'calling',\n",
              " 'admins',\n",
              " 'violation',\n",
              " 'themselves',\n",
              " 'system',\n",
              " 'regards',\n",
              " 'likely',\n",
              " 'law',\n",
              " 'cocksucker',\n",
              " 'various',\n",
              " 'sucks',\n",
              " 'provided',\n",
              " 'play',\n",
              " 'period',\n",
              " 'ones',\n",
              " 'generally',\n",
              " 'edited',\n",
              " 'death',\n",
              " 'british',\n",
              " 'area',\n",
              " 'vandalize',\n",
              " 'useful',\n",
              " 'mothjer',\n",
              " 'india',\n",
              " 'himself',\n",
              " 'hes',\n",
              " 'film',\n",
              " 'fggt',\n",
              " 'white',\n",
              " 'valid',\n",
              " 'sourced',\n",
              " 'science',\n",
              " 'respect',\n",
              " 'interesting',\n",
              " 'indeed',\n",
              " 'high',\n",
              " 'google',\n",
              " 'goes',\n",
              " 'external',\n",
              " 'explanation',\n",
              " 'cite',\n",
              " 'citations',\n",
              " 'university',\n",
              " 'north',\n",
              " 'moved',\n",
              " 'gay',\n",
              " 'avoid',\n",
              " 'alone',\n",
              " 'accurate',\n",
              " 'status',\n",
              " 'shut',\n",
              " 'otherwise',\n",
              " 'cause',\n",
              " 'attempt',\n",
              " 'appear',\n",
              " 'addition',\n",
              " 'thus',\n",
              " 'series',\n",
              " 'saw',\n",
              " 'sandbox',\n",
              " 'proper',\n",
              " 'npov',\n",
              " 'follow',\n",
              " 'black',\n",
              " '2004',\n",
              " '–',\n",
              " 'upon',\n",
              " 'third',\n",
              " 'shows',\n",
              " 'modern',\n",
              " 'legal',\n",
              " 'hours',\n",
              " 'comes',\n",
              " 'children',\n",
              " 'aware',\n",
              " 'told',\n",
              " 'rights',\n",
              " 'points',\n",
              " 'particular',\n",
              " 'needed',\n",
              " 'living',\n",
              " 'debate',\n",
              " 'context',\n",
              " 'assume',\n",
              " '2010',\n",
              " 'team',\n",
              " 're',\n",
              " 'mr',\n",
              " 'members',\n",
              " 'lion',\n",
              " 'greek',\n",
              " 'five',\n",
              " 'exist',\n",
              " 'disagree',\n",
              " 'culture',\n",
              " 'worked',\n",
              " 'serious',\n",
              " 'multiple',\n",
              " 'months',\n",
              " 'description',\n",
              " 'automatically',\n",
              " 'apparently',\n",
              " 'administrator',\n",
              " '6',\n",
              " 'western',\n",
              " 'previous',\n",
              " 'helpful',\n",
              " 'god',\n",
              " 'details',\n",
              " 'de',\n",
              " 'bestfrozen',\n",
              " 'available',\n",
              " 'attention',\n",
              " 'study',\n",
              " 'set',\n",
              " 'run',\n",
              " 'meant',\n",
              " 'guys',\n",
              " 'citation',\n",
              " 'arguments',\n",
              " 'arent',\n",
              " 'allowed',\n",
              " 'allow',\n",
              " 'wouldnt',\n",
              " 'whats',\n",
              " 'week',\n",
              " 'theyre',\n",
              " 'terms',\n",
              " 'speak',\n",
              " 'south',\n",
              " 'refer',\n",
              " 'power',\n",
              " 'historical',\n",
              " 'hell',\n",
              " 'contributing',\n",
              " 'contribs',\n",
              " 'actions',\n",
              " '10',\n",
              " 'seriously',\n",
              " 'job',\n",
              " 'hand',\n",
              " 'german',\n",
              " 'events',\n",
              " 'w',\n",
              " 'vote',\n",
              " 'test',\n",
              " 'republic',\n",
              " 'nonsense',\n",
              " 'national',\n",
              " 'head',\n",
              " 'fine',\n",
              " 'factual',\n",
              " 'biased',\n",
              " 'category',\n",
              " 'blocking',\n",
              " 'author',\n",
              " 'accept',\n",
              " 'specifically',\n",
              " 'result',\n",
              " 'online',\n",
              " 'messages',\n",
              " 'incorrect',\n",
              " 'happened',\n",
              " 'french',\n",
              " 'age',\n",
              " 'afd',\n",
              " 'personally',\n",
              " 'nazi',\n",
              " 'march',\n",
              " 'manual',\n",
              " 'majority',\n",
              " 'longer',\n",
              " 'family',\n",
              " 'enjoy',\n",
              " 'earlier',\n",
              " 'creating',\n",
              " 'asking',\n",
              " 'accepted',\n",
              " 'together',\n",
              " 'propaganda',\n",
              " 'doubt',\n",
              " 'direct',\n",
              " 'contact',\n",
              " 'college',\n",
              " 'bias',\n",
              " 'uploaded',\n",
              " 'unblock',\n",
              " 'readers',\n",
              " 'press',\n",
              " 'none',\n",
              " 'lack',\n",
              " 'john',\n",
              " 'george',\n",
              " 'despite',\n",
              " 'december',\n",
              " 'character',\n",
              " 'changing',\n",
              " 'c',\n",
              " 'business',\n",
              " 'august',\n",
              " 'album',\n",
              " 'towns',\n",
              " 'thinking',\n",
              " 'tagged',\n",
              " 'simple',\n",
              " 'quality',\n",
              " 'particularly',\n",
              " 'july',\n",
              " 'gets',\n",
              " 'figure',\n",
              " 'face',\n",
              " 'entirely',\n",
              " 'directly',\n",
              " 'decide',\n",
              " 'barnstar',\n",
              " '7',\n",
              " 'youll',\n",
              " 'villages',\n",
              " 'understanding',\n",
              " 'separate',\n",
              " 'proof',\n",
              " 'minor',\n",
              " 'lost',\n",
              " 'light',\n",
              " 'home',\n",
              " 'explaining',\n",
              " 'dead',\n",
              " 'bush',\n",
              " 'america',\n",
              " 'administrators',\n",
              " 'uses',\n",
              " 'sometimes',\n",
              " 'population',\n",
              " 'meaning',\n",
              " 'heard',\n",
              " 'friends',\n",
              " 'criticism',\n",
              " 'academic',\n",
              " 'video',\n",
              " 'standard',\n",
              " 'sites',\n",
              " 'rest',\n",
              " 'record',\n",
              " 'primary',\n",
              " 'photo',\n",
              " 'local',\n",
              " 'lists',\n",
              " 'easily',\n",
              " 'difference',\n",
              " 'die',\n",
              " 'decided',\n",
              " 'deal',\n",
              " 'complete',\n",
              " '2009',\n",
              " 'totally',\n",
              " 'tags',\n",
              " 'sock',\n",
              " 'shouldnt',\n",
              " 'posting',\n",
              " 'ideas',\n",
              " 'human',\n",
              " 'honest',\n",
              " 'games',\n",
              " 'copy',\n",
              " 'contribute',\n",
              " 'church',\n",
              " 'bring',\n",
              " 'wikipedian',\n",
              " 'tildes',\n",
              " 'sound',\n",
              " 'recently',\n",
              " 'looked',\n",
              " 'lol',\n",
              " 'june',\n",
              " 'experience',\n",
              " 'existing',\n",
              " 'except',\n",
              " 'eg',\n",
              " '20',\n",
              " 'supposed',\n",
              " 'situation',\n",
              " 'sections',\n",
              " 'respond',\n",
              " 'rationale',\n",
              " 'month',\n",
              " 'merely',\n",
              " 'ignore',\n",
              " 'heres',\n",
              " 'dear',\n",
              " 'close',\n",
              " 'christian',\n",
              " 'california',\n",
              " 'born',\n",
              " 'accounts',\n",
              " 'wikiproject',\n",
              " 'usually',\n",
              " 'towards',\n",
              " 'telling',\n",
              " 'posts',\n",
              " 'large',\n",
              " 'indicate',\n",
              " 'funny',\n",
              " 'difficult',\n",
              " 'couple',\n",
              " 'contest',\n",
              " '8',\n",
              " 'wants',\n",
              " 'standards',\n",
              " 'shall',\n",
              " 'putting',\n",
              " 'possibly',\n",
              " 'jews',\n",
              " 'inclusion',\n",
              " 'fun',\n",
              " 'file',\n",
              " 'episode',\n",
              " 'early',\n",
              " 'century',\n",
              " 'box',\n",
              " 'ban',\n",
              " 'action',\n",
              " '24',\n",
              " 'quotes',\n",
              " 'places',\n",
              " 'piece',\n",
              " 'necessary',\n",
              " 'indian',\n",
              " 'independent',\n",
              " 'faggot',\n",
              " 'examples',\n",
              " 'europe',\n",
              " 'countries',\n",
              " 'controversial',\n",
              " 'chinese',\n",
              " 'act',\n",
              " '15',\n",
              " 'websites',\n",
              " 'takes',\n",
              " 'results',\n",
              " 'release',\n",
              " 'refers',\n",
              " 'organization',\n",
              " 'mother',\n",
              " 'level',\n",
              " 'league',\n",
              " 'giving',\n",
              " 'forever',\n",
              " 'force',\n",
              " 'fix',\n",
              " 'final',\n",
              " 'coming',\n",
              " ...]"
            ]
          },
          "metadata": {},
          "execution_count": 22
        }
      ],
      "source": [
        "vectorization.get_vocabulary()"
      ]
    },
    {
      "cell_type": "code",
      "execution_count": 23,
      "metadata": {
        "id": "WS3Pulul7RzA"
      },
      "outputs": [],
      "source": [
        "vectorized_text=vectorization(x.values)"
      ]
    },
    {
      "cell_type": "code",
      "execution_count": 24,
      "metadata": {
        "colab": {
          "base_uri": "https://localhost:8080/"
        },
        "id": "e_VGz_tH8fj5",
        "outputId": "928bc89b-f4f1-456b-9ea0-45c8f24e83ef"
      },
      "outputs": [
        {
          "output_type": "execute_result",
          "data": {
            "text/plain": [
              "7168"
            ]
          },
          "metadata": {},
          "execution_count": 24
        }
      ],
      "source": [
        "len(x)"
      ]
    },
    {
      "cell_type": "code",
      "execution_count": 25,
      "metadata": {
        "colab": {
          "base_uri": "https://localhost:8080/"
        },
        "id": "PIvCg6118TNQ",
        "outputId": "8b6187da-b311-454c-b0ba-329384b28ec3"
      },
      "outputs": [
        {
          "output_type": "execute_result",
          "data": {
            "text/plain": [
              "<tf.Tensor: shape=(7168, 1800), dtype=int64, numpy=\n",
              "array([[  688,    76,     2, ...,     0,     0,     0],\n",
              "       [29691,    54,  1912, ...,     0,     0,     0],\n",
              "       [  507,   434,    69, ...,     0,     0,     0],\n",
              "       ...,\n",
              "       [   22,   132,   215, ...,     0,     0,     0],\n",
              "       [   41,    19,    49, ...,     0,     0,     0],\n",
              "       [  105,   366,   547, ...,     0,     0,     0]])>"
            ]
          },
          "metadata": {},
          "execution_count": 25
        }
      ],
      "source": [
        "vectorized_text"
      ]
    },
    {
      "cell_type": "markdown",
      "metadata": {
        "id": "pZ--UDlV9Pn6"
      },
      "source": [
        "#MCSHBAP - map, chache, shuffle, batch, prefetch  from_tensor_slices, list_file"
      ]
    },
    {
      "cell_type": "code",
      "execution_count": 26,
      "metadata": {
        "id": "FPolyZv58Vaj"
      },
      "outputs": [],
      "source": [
        "dataset = tf.data.Dataset.from_tensor_slices((vectorized_text, y))\n",
        "dataset = dataset.cache()\n",
        "dataset = dataset.shuffle(160000)\n",
        "dataset = dataset.batch(16)\n",
        "dataset = dataset.prefetch(8) # helps bottlenecks"
      ]
    },
    {
      "cell_type": "code",
      "execution_count": 27,
      "metadata": {
        "colab": {
          "base_uri": "https://localhost:8080/"
        },
        "id": "xkESgqB0-iPz",
        "outputId": "7b93c548-6e41-412c-d862-d5f2f7195c5b"
      },
      "outputs": [
        {
          "output_type": "execute_result",
          "data": {
            "text/plain": [
              "(array([[ 2404,  2214,   183, ...,     0,     0,     0],\n",
              "        [10329,  4402,    25, ...,     0,     0,     0],\n",
              "        [  335,  6919,    11, ...,     0,     0,     0],\n",
              "        ...,\n",
              "        [  144,     8,    13, ...,     0,     0,     0],\n",
              "        [    7,    57,    72, ...,     0,     0,     0],\n",
              "        [ 5698,     8,    20, ...,     0,     0,     0]]),\n",
              " array([[0, 0, 0, 0, 0, 0],\n",
              "        [0, 0, 0, 0, 0, 0],\n",
              "        [0, 0, 0, 0, 0, 0],\n",
              "        [0, 0, 0, 0, 0, 0],\n",
              "        [0, 0, 0, 0, 0, 0],\n",
              "        [0, 0, 0, 0, 0, 0],\n",
              "        [0, 0, 0, 0, 0, 0],\n",
              "        [0, 0, 0, 0, 0, 0],\n",
              "        [0, 0, 0, 0, 0, 0],\n",
              "        [1, 0, 0, 0, 1, 0],\n",
              "        [0, 0, 0, 0, 0, 0],\n",
              "        [0, 0, 0, 0, 0, 0],\n",
              "        [0, 0, 0, 0, 0, 0],\n",
              "        [0, 0, 0, 0, 0, 0],\n",
              "        [0, 0, 0, 0, 0, 0],\n",
              "        [0, 0, 0, 0, 0, 0]]))"
            ]
          },
          "metadata": {},
          "execution_count": 27
        }
      ],
      "source": [
        "dataset.as_numpy_iterator().next()"
      ]
    },
    {
      "cell_type": "code",
      "execution_count": 28,
      "metadata": {
        "id": "k8eLvNlY9Ink"
      },
      "outputs": [],
      "source": [
        "batch_x,batch_y=dataset.as_numpy_iterator().next()"
      ]
    },
    {
      "cell_type": "code",
      "execution_count": 29,
      "metadata": {
        "colab": {
          "base_uri": "https://localhost:8080/"
        },
        "id": "H5V8uo6g-TLE",
        "outputId": "62c977ac-01d9-427c-8a62-7b3c96e7f577"
      },
      "outputs": [
        {
          "output_type": "execute_result",
          "data": {
            "text/plain": [
              "(16, 1800)"
            ]
          },
          "metadata": {},
          "execution_count": 29
        }
      ],
      "source": [
        "batch_x.shape"
      ]
    },
    {
      "cell_type": "code",
      "execution_count": 30,
      "metadata": {
        "colab": {
          "base_uri": "https://localhost:8080/"
        },
        "id": "hXH50qO0-eby",
        "outputId": "a52d4174-2682-4917-e9d2-4e3689b924a1"
      },
      "outputs": [
        {
          "output_type": "execute_result",
          "data": {
            "text/plain": [
              "(16, 6)"
            ]
          },
          "metadata": {},
          "execution_count": 30
        }
      ],
      "source": [
        "batch_y.shape"
      ]
    },
    {
      "cell_type": "code",
      "execution_count": 31,
      "metadata": {
        "colab": {
          "base_uri": "https://localhost:8080/"
        },
        "id": "8e9CMIry-zmc",
        "outputId": "5eee802c-3f68-49d0-f0bb-610d6a73d682"
      },
      "outputs": [
        {
          "output_type": "execute_result",
          "data": {
            "text/plain": [
              "448"
            ]
          },
          "metadata": {},
          "execution_count": 31
        }
      ],
      "source": [
        "len(dataset)"
      ]
    },
    {
      "cell_type": "code",
      "execution_count": 32,
      "metadata": {
        "colab": {
          "base_uri": "https://localhost:8080/"
        },
        "id": "7ReWyyhM-7Wm",
        "outputId": "4411522c-4869-49e0-bc42-4e5616f905d6"
      },
      "outputs": [
        {
          "output_type": "execute_result",
          "data": {
            "text/plain": [
              "313.59999999999997"
            ]
          },
          "metadata": {},
          "execution_count": 32
        }
      ],
      "source": [
        "len(dataset)*.7"
      ]
    },
    {
      "cell_type": "code",
      "execution_count": 33,
      "metadata": {
        "colab": {
          "base_uri": "https://localhost:8080/"
        },
        "id": "zjDFrwZQ--Fu",
        "outputId": "080371bf-5c4d-41c3-faf5-5989868c04db"
      },
      "outputs": [
        {
          "output_type": "execute_result",
          "data": {
            "text/plain": [
              "89.60000000000001"
            ]
          },
          "metadata": {},
          "execution_count": 33
        }
      ],
      "source": [
        "len(dataset)*.2"
      ]
    },
    {
      "cell_type": "code",
      "execution_count": 34,
      "metadata": {
        "colab": {
          "base_uri": "https://localhost:8080/"
        },
        "id": "Obkvvy3B_EYM",
        "outputId": "bc739c29-291b-4a41-aba4-fe9831f8a5a1"
      },
      "outputs": [
        {
          "output_type": "execute_result",
          "data": {
            "text/plain": [
              "44.800000000000004"
            ]
          },
          "metadata": {},
          "execution_count": 34
        }
      ],
      "source": [
        "len(dataset)*.1"
      ]
    },
    {
      "cell_type": "code",
      "execution_count": 35,
      "metadata": {
        "id": "56kH4YSs-f9B"
      },
      "outputs": [],
      "source": [
        "train = dataset.take(int(len(dataset)*.7))\n",
        "val = dataset.skip(int(len(dataset)*.7)).take(int(len(dataset)*.2))  # skipping 70 and taking 20%\n",
        "test = dataset.skip(int(len(dataset)*.9)).take(int(len(dataset)*.1))"
      ]
    },
    {
      "cell_type": "code",
      "execution_count": 36,
      "metadata": {
        "id": "dt5H-Yjp_3z8"
      },
      "outputs": [],
      "source": [
        "train_generator=train.as_numpy_iterator()"
      ]
    },
    {
      "cell_type": "code",
      "execution_count": 37,
      "metadata": {
        "colab": {
          "base_uri": "https://localhost:8080/"
        },
        "id": "kuIlVIEV_0OV",
        "outputId": "2a43a0df-9926-4cf1-ba76-98d104247b74"
      },
      "outputs": [
        {
          "output_type": "execute_result",
          "data": {
            "text/plain": [
              "(array([[31194, 19021,  1261, ...,     0,     0,     0],\n",
              "        [   52,    31,    15, ...,     0,     0,     0],\n",
              "        [  235,    23,     2, ...,     0,     0,     0],\n",
              "        ...,\n",
              "        [   11,   718,  1411, ...,     0,     0,     0],\n",
              "        [31534,   139,  9952, ...,     0,     0,     0],\n",
              "        [   89,     8,  5810, ...,     0,     0,     0]]),\n",
              " array([[0, 0, 0, 0, 0, 0],\n",
              "        [0, 0, 0, 0, 0, 0],\n",
              "        [0, 0, 0, 0, 0, 0],\n",
              "        [0, 0, 0, 0, 0, 0],\n",
              "        [1, 0, 1, 0, 1, 0],\n",
              "        [1, 0, 1, 0, 0, 0],\n",
              "        [0, 0, 0, 0, 0, 0],\n",
              "        [1, 0, 1, 1, 1, 1],\n",
              "        [0, 0, 0, 0, 0, 0],\n",
              "        [1, 0, 0, 0, 0, 0],\n",
              "        [0, 0, 0, 0, 0, 0],\n",
              "        [0, 0, 0, 0, 0, 0],\n",
              "        [0, 0, 0, 0, 0, 0],\n",
              "        [0, 0, 0, 0, 0, 0],\n",
              "        [0, 0, 0, 0, 0, 0],\n",
              "        [0, 0, 0, 0, 0, 0]]))"
            ]
          },
          "metadata": {},
          "execution_count": 37
        }
      ],
      "source": [
        "train_generator.next()"
      ]
    },
    {
      "cell_type": "markdown",
      "metadata": {
        "id": "KrkG1TR8-v68"
      },
      "source": [
        "## Create Sequential Model"
      ]
    },
    {
      "cell_type": "code",
      "execution_count": 38,
      "metadata": {
        "id": "BlWT5D1e-tEu"
      },
      "outputs": [],
      "source": [
        "from tensorflow.keras.models import Sequential\n",
        "from tensorflow.keras.layers import LSTM,Bidirectional,Dropout,Dense,Embedding"
      ]
    },
    {
      "cell_type": "code",
      "execution_count": 39,
      "metadata": {
        "id": "4sukPLQqQXoK"
      },
      "outputs": [],
      "source": [
        "model = Sequential()\n",
        "# Create the embedding layer\n",
        "model.add(Embedding(max_features+1, 32))\n",
        "# Bidirectional LSTM Layer\n",
        "model.add(Bidirectional(LSTM(32, activation='tanh')))\n",
        "# Feature extractor Fully connected layers\n",
        "model.add(Dense(128, activation='relu'))\n",
        "model.add(Dense(256, activation='relu'))\n",
        "model.add(Dense(128, activation='relu'))\n",
        "# Final layer\n",
        "model.add(Dense(6, activation='sigmoid'))"
      ]
    },
    {
      "cell_type": "code",
      "execution_count": 40,
      "metadata": {
        "id": "eWmIGjGtzO-k"
      },
      "outputs": [],
      "source": [
        "model.compile(loss='BinaryCrossentropy', optimizer='Adam')"
      ]
    },
    {
      "cell_type": "code",
      "execution_count": 41,
      "metadata": {
        "colab": {
          "base_uri": "https://localhost:8080/"
        },
        "id": "nNiDK796z91e",
        "outputId": "da92c9ee-0f53-419b-b353-1f2521cd87d7"
      },
      "outputs": [
        {
          "output_type": "stream",
          "name": "stdout",
          "text": [
            "Model: \"sequential\"\n",
            "_________________________________________________________________\n",
            " Layer (type)                Output Shape              Param #   \n",
            "=================================================================\n",
            " embedding (Embedding)       (None, None, 32)          6400032   \n",
            "                                                                 \n",
            " bidirectional (Bidirection  (None, 64)                16640     \n",
            " al)                                                             \n",
            "                                                                 \n",
            " dense (Dense)               (None, 128)               8320      \n",
            "                                                                 \n",
            " dense_1 (Dense)             (None, 256)               33024     \n",
            "                                                                 \n",
            " dense_2 (Dense)             (None, 128)               32896     \n",
            "                                                                 \n",
            " dense_3 (Dense)             (None, 6)                 774       \n",
            "                                                                 \n",
            "=================================================================\n",
            "Total params: 6491686 (24.76 MB)\n",
            "Trainable params: 6491686 (24.76 MB)\n",
            "Non-trainable params: 0 (0.00 Byte)\n",
            "_________________________________________________________________\n"
          ]
        }
      ],
      "source": [
        "model.summary()"
      ]
    },
    {
      "cell_type": "code",
      "execution_count": 42,
      "metadata": {
        "colab": {
          "base_uri": "https://localhost:8080/"
        },
        "id": "-RW-2ug20AKX",
        "outputId": "433db3f3-9d10-48a7-d693-2ee5ccd15ea1"
      },
      "outputs": [
        {
          "output_type": "stream",
          "name": "stdout",
          "text": [
            "Epoch 1/5\n",
            "313/313 [==============================] - 76s 226ms/step - loss: 0.1441 - val_loss: 0.0889\n",
            "Epoch 2/5\n",
            "313/313 [==============================] - 52s 166ms/step - loss: 0.0726 - val_loss: 0.0596\n",
            "Epoch 3/5\n",
            "313/313 [==============================] - 43s 137ms/step - loss: 0.0530 - val_loss: 0.0448\n",
            "Epoch 4/5\n",
            "313/313 [==============================] - 39s 125ms/step - loss: 0.0437 - val_loss: 0.0372\n",
            "Epoch 5/5\n",
            "313/313 [==============================] - 37s 118ms/step - loss: 0.0376 - val_loss: 0.0366\n"
          ]
        }
      ],
      "source": [
        "history = model.fit(train, epochs=5, validation_data=val)"
      ]
    },
    {
      "cell_type": "code",
      "execution_count": 43,
      "metadata": {
        "id": "UhVzY2OL0DDg"
      },
      "outputs": [],
      "source": [
        "from matplotlib import pyplot as plt"
      ]
    },
    {
      "cell_type": "code",
      "execution_count": 44,
      "metadata": {
        "colab": {
          "base_uri": "https://localhost:8080/",
          "height": 447
        },
        "id": "JnI2NSoE0F17",
        "outputId": "4528bc43-187e-485d-a0c2-abe0f9cf0e0e"
      },
      "outputs": [
        {
          "output_type": "display_data",
          "data": {
            "text/plain": [
              "<Figure size 800x500 with 0 Axes>"
            ]
          },
          "metadata": {}
        },
        {
          "output_type": "display_data",
          "data": {
            "text/plain": [
              "<Figure size 640x480 with 1 Axes>"
            ],
            "image/png": "[encoded data removed]"
          },
          "metadata": {}
        }
      ],
      "source": [
        "plt.figure(figsize=(8,5))\n",
        "pd.DataFrame(history.history).plot()\n",
        "plt.show()"
      ]
    },
    {
      "cell_type": "markdown",
      "metadata": {
        "id": "gSUEsgdB0Iza"
      },
      "source": [
        "## Predictions"
      ]
    },
    {
      "cell_type": "code",
      "execution_count": 45,
      "metadata": {
        "id": "QmDHQuvj0J88"
      },
      "outputs": [],
      "source": [
        "input_text = vectorization('You freaking suck! I am going to hit you.')"
      ]
    },
    {
      "cell_type": "code",
      "execution_count": 46,
      "metadata": {
        "colab": {
          "base_uri": "https://localhost:8080/"
        },
        "id": "BgpQishu0LxR",
        "outputId": "b93d28b7-ce8e-4ec7-a8bc-d539348a04b2"
      },
      "outputs": [
        {
          "output_type": "stream",
          "name": "stdout",
          "text": [
            "1/1 [==============================] - 1s 1s/step\n"
          ]
        }
      ],
      "source": [
        "res = model.predict(np.expand_dims(input_text,0))"
      ]
    },
    {
      "cell_type": "code",
      "execution_count": 47,
      "metadata": {
        "colab": {
          "base_uri": "https://localhost:8080/"
        },
        "id": "1rcM46OB0NYK",
        "outputId": "69a71e88-f79f-41c5-f4a1-689c331a127d"
      },
      "outputs": [
        {
          "output_type": "execute_result",
          "data": {
            "text/plain": [
              "array([[1, 0, 1, 0, 1, 0]])"
            ]
          },
          "metadata": {},
          "execution_count": 47
        }
      ],
      "source": [
        "(res > 0.5).astype(int)"
      ]
    },
    {
      "cell_type": "code",
      "execution_count": 48,
      "metadata": {
        "id": "NRISYvJH0Pg0"
      },
      "outputs": [],
      "source": [
        "batch_X, batch_y = test.as_numpy_iterator().next()"
      ]
    },
    {
      "cell_type": "code",
      "execution_count": 49,
      "metadata": {
        "colab": {
          "base_uri": "https://localhost:8080/"
        },
        "id": "_pZVGl240RIK",
        "outputId": "6c69a723-36c1-4782-9e80-a6e55e819e26"
      },
      "outputs": [
        {
          "output_type": "stream",
          "name": "stdout",
          "text": [
            "1/1 [==============================] - 0s 99ms/step\n"
          ]
        },
        {
          "output_type": "execute_result",
          "data": {
            "text/plain": [
              "array([[1, 0, 1, 0, 1, 0],\n",
              "       [0, 0, 0, 0, 0, 0],\n",
              "       [1, 0, 1, 0, 1, 0],\n",
              "       [0, 0, 0, 0, 0, 0],\n",
              "       [0, 0, 0, 0, 0, 0],\n",
              "       [0, 0, 0, 0, 0, 0],\n",
              "       [0, 0, 0, 0, 0, 0],\n",
              "       [0, 0, 0, 0, 0, 0],\n",
              "       [0, 0, 0, 0, 0, 0],\n",
              "       [0, 0, 0, 0, 0, 0],\n",
              "       [0, 0, 0, 0, 0, 0],\n",
              "       [0, 0, 0, 0, 0, 0],\n",
              "       [1, 0, 1, 0, 1, 0],\n",
              "       [0, 0, 0, 0, 0, 0],\n",
              "       [0, 0, 0, 0, 0, 0],\n",
              "       [0, 0, 0, 0, 0, 0]])"
            ]
          },
          "metadata": {},
          "execution_count": 49
        }
      ],
      "source": [
        "(model.predict(batch_X) > 0.5).astype(int)"
      ]
    },
    {
      "cell_type": "code",
      "execution_count": 50,
      "metadata": {
        "colab": {
          "base_uri": "https://localhost:8080/"
        },
        "id": "wPl6lX1B0S5H",
        "outputId": "7671b30e-3f2b-4e80-c441-386049630633"
      },
      "outputs": [
        {
          "output_type": "execute_result",
          "data": {
            "text/plain": [
              "(1, 6)"
            ]
          },
          "metadata": {},
          "execution_count": 50
        }
      ],
      "source": [
        "res.shape"
      ]
    },
    {
      "cell_type": "markdown",
      "metadata": {
        "id": "lQpdbIyC0VHC"
      },
      "source": [
        "## Evaluating"
      ]
    },
    {
      "cell_type": "code",
      "execution_count": 51,
      "metadata": {
        "id": "SHX4bDqo0UoM"
      },
      "outputs": [],
      "source": [
        "from tensorflow.keras.metrics import Precision, Recall, CategoricalAccuracy"
      ]
    },
    {
      "cell_type": "code",
      "execution_count": 52,
      "metadata": {
        "id": "Fbxp4LJ90i5X"
      },
      "outputs": [],
      "source": [
        "pre = Precision()\n",
        "re = Recall()\n",
        "acc = CategoricalAccuracy()"
      ]
    },
    {
      "cell_type": "code",
      "execution_count": 53,
      "metadata": {
        "colab": {
          "base_uri": "https://localhost:8080/"
        },
        "id": "GFumjuKa0kbb",
        "outputId": "ac4ca933-a35e-47e1-8d44-23a819d71b67"
      },
      "outputs": [
        {
          "output_type": "stream",
          "name": "stdout",
          "text": [
            "1/1 [==============================] - 0s 95ms/step\n",
            "1/1 [==============================] - 0s 60ms/step\n",
            "1/1 [==============================] - 0s 58ms/step\n",
            "1/1 [==============================] - 0s 64ms/step\n",
            "1/1 [==============================] - 0s 61ms/step\n",
            "1/1 [==============================] - 0s 57ms/step\n",
            "1/1 [==============================] - 0s 56ms/step\n",
            "1/1 [==============================] - 0s 53ms/step\n",
            "1/1 [==============================] - 0s 53ms/step\n",
            "1/1 [==============================] - 0s 52ms/step\n",
            "1/1 [==============================] - 0s 53ms/step\n",
            "1/1 [==============================] - 0s 54ms/step\n",
            "1/1 [==============================] - 0s 53ms/step\n",
            "1/1 [==============================] - 0s 54ms/step\n",
            "1/1 [==============================] - 0s 52ms/step\n",
            "1/1 [==============================] - 0s 53ms/step\n",
            "1/1 [==============================] - 0s 53ms/step\n",
            "1/1 [==============================] - 0s 53ms/step\n",
            "1/1 [==============================] - 0s 54ms/step\n",
            "1/1 [==============================] - 0s 52ms/step\n",
            "1/1 [==============================] - 0s 60ms/step\n",
            "1/1 [==============================] - 0s 52ms/step\n",
            "1/1 [==============================] - 0s 51ms/step\n",
            "1/1 [==============================] - 0s 51ms/step\n",
            "1/1 [==============================] - 0s 50ms/step\n",
            "1/1 [==============================] - 0s 58ms/step\n",
            "1/1 [==============================] - 0s 52ms/step\n",
            "1/1 [==============================] - 0s 53ms/step\n",
            "1/1 [==============================] - 0s 51ms/step\n",
            "1/1 [==============================] - 0s 56ms/step\n",
            "1/1 [==============================] - 0s 50ms/step\n",
            "1/1 [==============================] - 0s 50ms/step\n",
            "1/1 [==============================] - 0s 51ms/step\n",
            "1/1 [==============================] - 0s 50ms/step\n",
            "1/1 [==============================] - 0s 60ms/step\n",
            "1/1 [==============================] - 0s 50ms/step\n",
            "1/1 [==============================] - 0s 51ms/step\n",
            "1/1 [==============================] - 0s 59ms/step\n",
            "1/1 [==============================] - 0s 51ms/step\n",
            "1/1 [==============================] - 0s 51ms/step\n",
            "1/1 [==============================] - 0s 50ms/step\n",
            "1/1 [==============================] - 0s 50ms/step\n",
            "1/1 [==============================] - 0s 51ms/step\n",
            "1/1 [==============================] - 0s 58ms/step\n"
          ]
        }
      ],
      "source": [
        "for batch in test.as_numpy_iterator():\n",
        "    # Unpack the batch\n",
        "    X_true, y_true = batch\n",
        "    # Make a prediction\n",
        "    yhat = model.predict(X_true)\n",
        "\n",
        "    # Flatten the predictions\n",
        "    y_true = y_true.flatten()\n",
        "    yhat = yhat.flatten()\n",
        "\n",
        "    pre.update_state(y_true, yhat)\n",
        "    re.update_state(y_true, yhat)\n",
        "    acc.update_state(y_true, yhat)"
      ]
    },
    {
      "cell_type": "code",
      "execution_count": 54,
      "metadata": {
        "colab": {
          "base_uri": "https://localhost:8080/"
        },
        "id": "KIPBk8A00mu7",
        "outputId": "c691222f-1dd1-416b-b6f1-429ce4256077"
      },
      "outputs": [
        {
          "output_type": "stream",
          "name": "stdout",
          "text": [
            "Precision: 0.8627451062202454, Recall:0.7951807379722595, Accuracy:0.3636363744735718\n"
          ]
        }
      ],
      "source": [
        "print(f'Precision: {pre.result().numpy()}, Recall:{re.result().numpy()}, Accuracy:{acc.result().numpy()}')"
      ]
    },
    {
      "cell_type": "markdown",
      "metadata": {
        "id": "vyTJ7QbJ0sx-"
      },
      "source": [
        " ## Test and Gradio"
      ]
    },
    {
      "cell_type": "code",
      "execution_count": 55,
      "metadata": {
        "colab": {
          "base_uri": "https://localhost:8080/"
        },
        "id": "h3_eEY9B0pHq",
        "outputId": "062ec1fa-26c6-475d-aeed-8b8238b3e725"
      },
      "outputs": [
        {
          "output_type": "stream",
          "name": "stdout",
          "text": [
            "Collecting gradio\n",
            "  Downloading gradio-4.37.2-py3-none-any.whl (12.3 MB)\n",
            "\u001b[2K     \u001b[90m━━━━━━━━━━━━━━━━━━━━━━━━━━━━━━━━━━━━━━━━\u001b[0m \u001b[32m12.3/12.3 MB\u001b[0m \u001b[31m37.1 MB/s\u001b[0m eta \u001b[36m0:00:00\u001b[0m\n",
            "\u001b[?25hRequirement already satisfied: jinja2 in /usr/local/lib/python3.10/dist-packages (3.1.4)\n",
            "Collecting aiofiles<24.0,>=22.0 (from gradio)\n",
            "  Downloading aiofiles-23.2.1-py3-none-any.whl (15 kB)\n",
            "Requirement already satisfied: altair<6.0,>=4.2.0 in /usr/local/lib/python3.10/dist-packages (from gradio) (4.2.2)\n",
            "Collecting fastapi (from gradio)\n",
            "  Downloading fastapi-0.111.0-py3-none-any.whl (91 kB)\n",
            "\u001b[2K     \u001b[90m━━━━━━━━━━━━━━━━━━━━━━━━━━━━━━━━━━━━━━━━\u001b[0m \u001b[32m92.0/92.0 kB\u001b[0m \u001b[31m13.6 MB/s\u001b[0m eta \u001b[36m0:00:00\u001b[0m\n",
            "\u001b[?25hCollecting ffmpy (from gradio)\n",
            "  Downloading ffmpy-0.3.2.tar.gz (5.5 kB)\n",
            "  Preparing metadata (setup.py) ... \u001b[?25l\u001b[?25hdone\n",
            "Collecting gradio-client==1.0.2 (from gradio)\n",
            "  Downloading gradio_client-1.0.2-py3-none-any.whl (318 kB)\n",
            "\u001b[2K     \u001b[90m━━━━━━━━━━━━━━━━━━━━━━━━━━━━━━━━━━━━━━━━\u001b[0m \u001b[32m318.2/318.2 kB\u001b[0m \u001b[31m44.0 MB/s\u001b[0m eta \u001b[36m0:00:00\u001b[0m\n",
            "\u001b[?25hCollecting httpx>=0.24.1 (from gradio)\n",
            "  Downloading httpx-0.27.0-py3-none-any.whl (75 kB)\n",
            "\u001b[2K     \u001b[90m━━━━━━━━━━━━━━━━━━━━━━━━━━━━━━━━━━━━━━━━\u001b[0m \u001b[32m75.6/75.6 kB\u001b[0m \u001b[31m11.7 MB/s\u001b[0m eta \u001b[36m0:00:00\u001b[0m\n",
            "\u001b[?25hRequirement already satisfied: huggingface-hub>=0.19.3 in /usr/local/lib/python3.10/dist-packages (from gradio) (0.23.4)\n",
            "Requirement already satisfied: importlib-resources<7.0,>=1.3 in /usr/local/lib/python3.10/dist-packages (from gradio) (6.4.0)\n",
            "Requirement already satisfied: markupsafe~=2.0 in /usr/local/lib/python3.10/dist-packages (from gradio) (2.1.5)\n",
            "Requirement already satisfied: matplotlib~=3.0 in /usr/local/lib/python3.10/dist-packages (from gradio) (3.7.1)\n",
            "Requirement already satisfied: numpy<3.0,>=1.0 in /usr/local/lib/python3.10/dist-packages (from gradio) (1.25.2)\n",
            "Collecting orjson~=3.0 (from gradio)\n",
            "  Downloading orjson-3.10.6-cp310-cp310-manylinux_2_17_x86_64.manylinux2014_x86_64.whl (141 kB)\n",
            "\u001b[2K     \u001b[90m━━━━━━━━━━━━━━━━━━━━━━━━━━━━━━━━━━━━━━━━\u001b[0m \u001b[32m141.1/141.1 kB\u001b[0m \u001b[31m22.1 MB/s\u001b[0m eta \u001b[36m0:00:00\u001b[0m\n",
            "\u001b[?25hRequirement already satisfied: packaging in /usr/local/lib/python3.10/dist-packages (from gradio) (24.1)\n",
            "Requirement already satisfied: pandas<3.0,>=1.0 in /usr/local/lib/python3.10/dist-packages (from gradio) (2.0.3)\n",
            "Requirement already satisfied: pillow<11.0,>=8.0 in /usr/local/lib/python3.10/dist-packages (from gradio) (9.4.0)\n",
            "Requirement already satisfied: pydantic>=2.0 in /usr/local/lib/python3.10/dist-packages (from gradio) (2.8.0)\n",
            "Collecting pydub (from gradio)\n",
            "  Downloading pydub-0.25.1-py2.py3-none-any.whl (32 kB)\n",
            "Collecting python-multipart>=0.0.9 (from gradio)\n",
            "  Downloading python_multipart-0.0.9-py3-none-any.whl (22 kB)\n",
            "Requirement already satisfied: pyyaml<7.0,>=5.0 in /usr/local/lib/python3.10/dist-packages (from gradio) (6.0.1)\n",
            "Collecting ruff>=0.2.2 (from gradio)\n",
            "  Downloading ruff-0.5.0-py3-none-manylinux_2_17_x86_64.manylinux2014_x86_64.whl (10.1 MB)\n",
            "\u001b[2K     \u001b[90m━━━━━━━━━━━━━━━━━━━━━━━━━━━━━━━━━━━━━━━━\u001b[0m \u001b[32m10.1/10.1 MB\u001b[0m \u001b[31m70.6 MB/s\u001b[0m eta \u001b[36m0:00:00\u001b[0m\n",
            "\u001b[?25hCollecting semantic-version~=2.0 (from gradio)\n",
            "  Downloading semantic_version-2.10.0-py2.py3-none-any.whl (15 kB)\n",
            "Collecting tomlkit==0.12.0 (from gradio)\n",
            "  Downloading tomlkit-0.12.0-py3-none-any.whl (37 kB)\n",
            "Requirement already satisfied: typer<1.0,>=0.12 in /usr/local/lib/python3.10/dist-packages (from gradio) (0.12.3)\n",
            "Requirement already satisfied: typing-extensions~=4.0 in /usr/local/lib/python3.10/dist-packages (from gradio) (4.12.2)\n",
            "Requirement already satisfied: urllib3~=2.0 in /usr/local/lib/python3.10/dist-packages (from gradio) (2.0.7)\n",
            "Collecting uvicorn>=0.14.0 (from gradio)\n",
            "  Downloading uvicorn-0.30.1-py3-none-any.whl (62 kB)\n",
            "\u001b[2K     \u001b[90m━━━━━━━━━━━━━━━━━━━━━━━━━━━━━━━━━━━━━━━━\u001b[0m \u001b[32m62.4/62.4 kB\u001b[0m \u001b[31m9.6 MB/s\u001b[0m eta \u001b[36m0:00:00\u001b[0m\n",
            "\u001b[?25hRequirement already satisfied: fsspec in /usr/local/lib/python3.10/dist-packages (from gradio-client==1.0.2->gradio) (2023.6.0)\n",
            "Collecting websockets<12.0,>=10.0 (from gradio-client==1.0.2->gradio)\n",
            "  Downloading websockets-11.0.3-cp310-cp310-manylinux_2_5_x86_64.manylinux1_x86_64.manylinux_2_17_x86_64.manylinux2014_x86_64.whl (129 kB)\n",
            "\u001b[2K     \u001b[90m━━━━━━━━━━━━━━━━━━━━━━━━━━━━━━━━━━━━━━━━\u001b[0m \u001b[32m129.9/129.9 kB\u001b[0m \u001b[31m16.9 MB/s\u001b[0m eta \u001b[36m0:00:00\u001b[0m\n",
            "\u001b[?25hRequirement already satisfied: entrypoints in /usr/local/lib/python3.10/dist-packages (from altair<6.0,>=4.2.0->gradio) (0.4)\n",
            "Requirement already satisfied: jsonschema>=3.0 in /usr/local/lib/python3.10/dist-packages (from altair<6.0,>=4.2.0->gradio) (4.19.2)\n",
            "Requirement already satisfied: toolz in /usr/local/lib/python3.10/dist-packages (from altair<6.0,>=4.2.0->gradio) (0.12.1)\n",
            "Requirement already satisfied: anyio in /usr/local/lib/python3.10/dist-packages (from httpx>=0.24.1->gradio) (3.7.1)\n",
            "Requirement already satisfied: certifi in /usr/local/lib/python3.10/dist-packages (from httpx>=0.24.1->gradio) (2024.6.2)\n",
            "Collecting httpcore==1.* (from httpx>=0.24.1->gradio)\n",
            "  Downloading httpcore-1.0.5-py3-none-any.whl (77 kB)\n",
            "\u001b[2K     \u001b[90m━━━━━━━━━━━━━━━━━━━━━━━━━━━━━━━━━━━━━━━━\u001b[0m \u001b[32m77.9/77.9 kB\u001b[0m \u001b[31m12.0 MB/s\u001b[0m eta \u001b[36m0:00:00\u001b[0m\n",
            "\u001b[?25hRequirement already satisfied: idna in /usr/local/lib/python3.10/dist-packages (from httpx>=0.24.1->gradio) (3.7)\n",
            "Requirement already satisfied: sniffio in /usr/local/lib/python3.10/dist-packages (from httpx>=0.24.1->gradio) (1.3.1)\n",
            "Collecting h11<0.15,>=0.13 (from httpcore==1.*->httpx>=0.24.1->gradio)\n",
            "  Downloading h11-0.14.0-py3-none-any.whl (58 kB)\n",
            "\u001b[2K     \u001b[90m━━━━━━━━━━━━━━━━━━━━━━━━━━━━━━━━━━━━━━━━\u001b[0m \u001b[32m58.3/58.3 kB\u001b[0m \u001b[31m9.9 MB/s\u001b[0m eta \u001b[36m0:00:00\u001b[0m\n",
            "\u001b[?25hRequirement already satisfied: filelock in /usr/local/lib/python3.10/dist-packages (from huggingface-hub>=0.19.3->gradio) (3.15.4)\n",
            "Requirement already satisfied: requests in /usr/local/lib/python3.10/dist-packages (from huggingface-hub>=0.19.3->gradio) (2.31.0)\n",
            "Requirement already satisfied: tqdm>=4.42.1 in /usr/local/lib/python3.10/dist-packages (from huggingface-hub>=0.19.3->gradio) (4.66.4)\n",
            "Requirement already satisfied: contourpy>=1.0.1 in /usr/local/lib/python3.10/dist-packages (from matplotlib~=3.0->gradio) (1.2.1)\n",
            "Requirement already satisfied: cycler>=0.10 in /usr/local/lib/python3.10/dist-packages (from matplotlib~=3.0->gradio) (0.12.1)\n",
            "Requirement already satisfied: fonttools>=4.22.0 in /usr/local/lib/python3.10/dist-packages (from matplotlib~=3.0->gradio) (4.53.0)\n",
            "Requirement already satisfied: kiwisolver>=1.0.1 in /usr/local/lib/python3.10/dist-packages (from matplotlib~=3.0->gradio) (1.4.5)\n",
            "Requirement already satisfied: pyparsing>=2.3.1 in /usr/local/lib/python3.10/dist-packages (from matplotlib~=3.0->gradio) (3.1.2)\n",
            "Requirement already satisfied: python-dateutil>=2.7 in /usr/local/lib/python3.10/dist-packages (from matplotlib~=3.0->gradio) (2.8.2)\n",
            "Requirement already satisfied: pytz>=2020.1 in /usr/local/lib/python3.10/dist-packages (from pandas<3.0,>=1.0->gradio) (2023.4)\n",
            "Requirement already satisfied: tzdata>=2022.1 in /usr/local/lib/python3.10/dist-packages (from pandas<3.0,>=1.0->gradio) (2024.1)\n",
            "Requirement already satisfied: annotated-types>=0.4.0 in /usr/local/lib/python3.10/dist-packages (from pydantic>=2.0->gradio) (0.7.0)\n",
            "Requirement already satisfied: pydantic-core==2.20.0 in /usr/local/lib/python3.10/dist-packages (from pydantic>=2.0->gradio) (2.20.0)\n",
            "Requirement already satisfied: click>=8.0.0 in /usr/local/lib/python3.10/dist-packages (from typer<1.0,>=0.12->gradio) (8.1.7)\n",
            "Requirement already satisfied: shellingham>=1.3.0 in /usr/local/lib/python3.10/dist-packages (from typer<1.0,>=0.12->gradio) (1.5.4)\n",
            "Requirement already satisfied: rich>=10.11.0 in /usr/local/lib/python3.10/dist-packages (from typer<1.0,>=0.12->gradio) (13.7.1)\n",
            "Collecting starlette<0.38.0,>=0.37.2 (from fastapi->gradio)\n",
            "  Downloading starlette-0.37.2-py3-none-any.whl (71 kB)\n",
            "\u001b[2K     \u001b[90m━━━━━━━━━━━━━━━━━━━━━━━━━━━━━━━━━━━━━━━━\u001b[0m \u001b[32m71.9/71.9 kB\u001b[0m \u001b[31m11.5 MB/s\u001b[0m eta \u001b[36m0:00:00\u001b[0m\n",
            "\u001b[?25hCollecting fastapi-cli>=0.0.2 (from fastapi->gradio)\n",
            "  Downloading fastapi_cli-0.0.4-py3-none-any.whl (9.5 kB)\n",
            "Collecting ujson!=4.0.2,!=4.1.0,!=4.2.0,!=4.3.0,!=5.0.0,!=5.1.0,>=4.0.1 (from fastapi->gradio)\n",
            "  Downloading ujson-5.10.0-cp310-cp310-manylinux_2_17_x86_64.manylinux2014_x86_64.whl (53 kB)\n",
            "\u001b[2K     \u001b[90m━━━━━━━━━━━━━━━━━━━━━━━━━━━━━━━━━━━━━━━━\u001b[0m \u001b[32m53.6/53.6 kB\u001b[0m \u001b[31m8.8 MB/s\u001b[0m eta \u001b[36m0:00:00\u001b[0m\n",
            "\u001b[?25hCollecting email_validator>=2.0.0 (from fastapi->gradio)\n",
            "  Downloading email_validator-2.2.0-py3-none-any.whl (33 kB)\n",
            "Collecting dnspython>=2.0.0 (from email_validator>=2.0.0->fastapi->gradio)\n",
            "  Downloading dnspython-2.6.1-py3-none-any.whl (307 kB)\n",
            "\u001b[2K     \u001b[90m━━━━━━━━━━━━━━━━━━━━━━━━━━━━━━━━━━━━━━━━\u001b[0m \u001b[32m307.7/307.7 kB\u001b[0m \u001b[31m41.0 MB/s\u001b[0m eta \u001b[36m0:00:00\u001b[0m\n",
            "\u001b[?25hRequirement already satisfied: attrs>=22.2.0 in /usr/local/lib/python3.10/dist-packages (from jsonschema>=3.0->altair<6.0,>=4.2.0->gradio) (23.2.0)\n",
            "Requirement already satisfied: jsonschema-specifications>=2023.03.6 in /usr/local/lib/python3.10/dist-packages (from jsonschema>=3.0->altair<6.0,>=4.2.0->gradio) (2023.12.1)\n",
            "Requirement already satisfied: referencing>=0.28.4 in /usr/local/lib/python3.10/dist-packages (from jsonschema>=3.0->altair<6.0,>=4.2.0->gradio) (0.35.1)\n",
            "Requirement already satisfied: rpds-py>=0.7.1 in /usr/local/lib/python3.10/dist-packages (from jsonschema>=3.0->altair<6.0,>=4.2.0->gradio) (0.18.1)\n",
            "Requirement already satisfied: six>=1.5 in /usr/local/lib/python3.10/dist-packages (from python-dateutil>=2.7->matplotlib~=3.0->gradio) (1.16.0)\n",
            "Requirement already satisfied: markdown-it-py>=2.2.0 in /usr/local/lib/python3.10/dist-packages (from rich>=10.11.0->typer<1.0,>=0.12->gradio) (3.0.0)\n",
            "Requirement already satisfied: pygments<3.0.0,>=2.13.0 in /usr/local/lib/python3.10/dist-packages (from rich>=10.11.0->typer<1.0,>=0.12->gradio) (2.16.1)\n",
            "Requirement already satisfied: exceptiongroup in /usr/local/lib/python3.10/dist-packages (from anyio->httpx>=0.24.1->gradio) (1.2.1)\n",
            "Collecting httptools>=0.5.0 (from uvicorn>=0.14.0->gradio)\n",
            "  Downloading httptools-0.6.1-cp310-cp310-manylinux_2_5_x86_64.manylinux1_x86_64.manylinux_2_17_x86_64.manylinux2014_x86_64.whl (341 kB)\n",
            "\u001b[2K     \u001b[90m━━━━━━━━━━━━━━━━━━━━━━━━━━━━━━━━━━━━━━━━\u001b[0m \u001b[32m341.4/341.4 kB\u001b[0m \u001b[31m44.3 MB/s\u001b[0m eta \u001b[36m0:00:00\u001b[0m\n",
            "\u001b[?25hCollecting python-dotenv>=0.13 (from uvicorn>=0.14.0->gradio)\n",
            "  Downloading python_dotenv-1.0.1-py3-none-any.whl (19 kB)\n",
            "Collecting uvloop!=0.15.0,!=0.15.1,>=0.14.0 (from uvicorn>=0.14.0->gradio)\n",
            "  Downloading uvloop-0.19.0-cp310-cp310-manylinux_2_17_x86_64.manylinux2014_x86_64.whl (3.4 MB)\n",
            "\u001b[2K     \u001b[90m━━━━━━━━━━━━━━━━━━━━━━━━━━━━━━━━━━━━━━━━\u001b[0m \u001b[32m3.4/3.4 MB\u001b[0m \u001b[31m97.8 MB/s\u001b[0m eta \u001b[36m0:00:00\u001b[0m\n",
            "\u001b[?25hCollecting watchfiles>=0.13 (from uvicorn>=0.14.0->gradio)\n",
            "  Downloading watchfiles-0.22.0-cp310-cp310-manylinux_2_17_x86_64.manylinux2014_x86_64.whl (1.2 MB)\n",
            "\u001b[2K     \u001b[90m━━━━━━━━━━━━━━━━━━━━━━━━━━━━━━━━━━━━━━━━\u001b[0m \u001b[32m1.2/1.2 MB\u001b[0m \u001b[31m81.5 MB/s\u001b[0m eta \u001b[36m0:00:00\u001b[0m\n",
            "\u001b[?25hRequirement already satisfied: charset-normalizer<4,>=2 in /usr/local/lib/python3.10/dist-packages (from requests->huggingface-hub>=0.19.3->gradio) (3.3.2)\n",
            "Requirement already satisfied: mdurl~=0.1 in /usr/local/lib/python3.10/dist-packages (from markdown-it-py>=2.2.0->rich>=10.11.0->typer<1.0,>=0.12->gradio) (0.1.2)\n",
            "Building wheels for collected packages: ffmpy\n",
            "  Building wheel for ffmpy (setup.py) ... \u001b[?25l\u001b[?25hdone\n",
            "  Created wheel for ffmpy: filename=ffmpy-0.3.2-py3-none-any.whl size=5584 sha256=018d61cfbe699aae4dd30fb820de8aceea4ed190853e05db8f40173dedb3d87c\n",
            "  Stored in directory: /root/.cache/pip/wheels/bd/65/9a/671fc6dcde07d4418df0c592f8df512b26d7a0029c2a23dd81\n",
            "Successfully built ffmpy\n",
            "Installing collected packages: pydub, ffmpy, websockets, uvloop, ujson, tomlkit, semantic-version, ruff, python-multipart, python-dotenv, orjson, httptools, h11, dnspython, aiofiles, watchfiles, uvicorn, starlette, httpcore, email_validator, httpx, gradio-client, fastapi-cli, fastapi, gradio\n",
            "Successfully installed aiofiles-23.2.1 dnspython-2.6.1 email_validator-2.2.0 fastapi-0.111.0 fastapi-cli-0.0.4 ffmpy-0.3.2 gradio-4.37.2 gradio-client-1.0.2 h11-0.14.0 httpcore-1.0.5 httptools-0.6.1 httpx-0.27.0 orjson-3.10.6 pydub-0.25.1 python-dotenv-1.0.1 python-multipart-0.0.9 ruff-0.5.0 semantic-version-2.10.0 starlette-0.37.2 tomlkit-0.12.0 ujson-5.10.0 uvicorn-0.30.1 uvloop-0.19.0 watchfiles-0.22.0 websockets-11.0.3\n"
          ]
        }
      ],
      "source": [
        "!pip install gradio jinja2"
      ]
    },
    {
      "cell_type": "code",
      "execution_count": 56,
      "metadata": {
        "id": "Sz7gLqY_252e"
      },
      "outputs": [],
      "source": [
        "import gradio as gr"
      ]
    },
    {
      "cell_type": "code",
      "execution_count": 57,
      "metadata": {
        "colab": {
          "base_uri": "https://localhost:8080/"
        },
        "id": "dUzWIMkN3BaX",
        "outputId": "6d07e723-ed3b-4e92-a7c3-32ac00dbf277"
      },
      "outputs": [
        {
          "output_type": "stream",
          "name": "stderr",
          "text": [
            "/usr/local/lib/python3.10/dist-packages/keras/src/engine/training.py:3103: UserWarning: You are saving your model as an HDF5 file via `model.save()`. This file format is considered legacy. We recommend using instead the native Keras format, e.g. `model.save('my_model.keras')`.\n",
            "  saving_api.save_model(\n"
          ]
        }
      ],
      "source": [
        "model.save('toxicity.h5')"
      ]
    },
    {
      "cell_type": "code",
      "execution_count": 58,
      "metadata": {
        "id": "TKJD72j83Hmq"
      },
      "outputs": [],
      "source": [
        "model=tf.keras.models.load_model('/content/toxicity.h5')"
      ]
    },
    {
      "cell_type": "code",
      "execution_count": 59,
      "metadata": {
        "id": "HQAHM5GM3SA7"
      },
      "outputs": [],
      "source": [
        "input_str=vectorization(\"hey I freaking hate you!\")"
      ]
    },
    {
      "cell_type": "code",
      "execution_count": 60,
      "metadata": {
        "colab": {
          "base_uri": "https://localhost:8080/"
        },
        "id": "AX7gN7Sd3nL9",
        "outputId": "560b23e2-17c3-478e-f1e5-56943c501ed2"
      },
      "outputs": [
        {
          "output_type": "stream",
          "name": "stdout",
          "text": [
            "1/1 [==============================] - 1s 684ms/step\n"
          ]
        }
      ],
      "source": [
        "res=model.predict(np.expand_dims(input_str,0))"
      ]
    },
    {
      "cell_type": "code",
      "execution_count": 61,
      "metadata": {
        "colab": {
          "base_uri": "https://localhost:8080/"
        },
        "id": "XYT27_6W3qqw",
        "outputId": "939e8601-923a-4623-f54c-667c0c3cf06c"
      },
      "outputs": [
        {
          "output_type": "execute_result",
          "data": {
            "text/plain": [
              "array([[0.9865306 , 0.31088817, 0.9225461 , 0.08678842, 0.78026325,\n",
              "        0.18508445]], dtype=float32)"
            ]
          },
          "metadata": {},
          "execution_count": 61
        }
      ],
      "source": [
        "res"
      ]
    },
    {
      "cell_type": "code",
      "execution_count": 62,
      "metadata": {
        "colab": {
          "base_uri": "https://localhost:8080/"
        },
        "id": "ke3y7zbs39kK",
        "outputId": "9358c263-ab77-4ff1-b5a0-667195565eeb"
      },
      "outputs": [
        {
          "output_type": "execute_result",
          "data": {
            "text/plain": [
              "Index(['toxic', 'severe_toxic', 'obscene', 'threat', 'insult',\n",
              "       'identity_hate'],\n",
              "      dtype='object')"
            ]
          },
          "metadata": {},
          "execution_count": 62
        }
      ],
      "source": [
        "df.columns[2:]"
      ]
    },
    {
      "cell_type": "code",
      "execution_count": 63,
      "metadata": {
        "id": "fj5vdI5P4BkT"
      },
      "outputs": [],
      "source": [
        "def score_comment(comment):\n",
        "    vectorized_comment = vectorization([comment])\n",
        "    results = model.predict(vectorized_comment)\n",
        "\n",
        "    text = ''\n",
        "    for idx, col in enumerate(df.columns[2:]):\n",
        "        text += '{}: {}\\n'.format(col, results[0][idx]>0.5)\n",
        "\n",
        "    return text"
      ]
    },
    {
      "cell_type": "code",
      "execution_count": 64,
      "metadata": {
        "id": "C1mpyZCe4Vux"
      },
      "outputs": [],
      "source": [
        "interface = gr.Interface(fn=score_comment,\n",
        "                         inputs=gr.Textbox(lines=2, placeholder='Comment to score'),\n",
        "                        outputs='text')"
      ]
    },
    {
      "cell_type": "code",
      "execution_count": 65,
      "metadata": {
        "colab": {
          "base_uri": "https://localhost:8080/",
          "height": 591
        },
        "id": "y4sTdjKZ9JCO",
        "outputId": "dea4c93f-503e-4207-d9a0-b4a02f43b7de"
      },
      "outputs": [
        {
          "output_type": "stream",
          "name": "stdout",
          "text": [
            "Colab notebook detected. To show errors in colab notebook, set debug=True in launch()\n",
            "Running on public URL: https://cc6f025f29e249c2b5.gradio.live\n",
            "\n",
            "This share link expires in 72 hours. For free permanent hosting and GPU upgrades, run `gradio deploy` from Terminal to deploy to Spaces (https://huggingface.co/spaces)\n"
          ]
        },
        {
          "output_type": "display_data",
          "data": {
            "text/plain": [
              "<IPython.core.display.HTML object>"
            ],
            "text/html": [
              "<div><iframe src=\"https://cc6f025f29e249c2b5.gradio.live\" width=\"100%\" height=\"500\" allow=\"autoplay; camera; microphone; clipboard-read; clipboard-write;\" frameborder=\"0\" allowfullscreen></iframe></div>"
            ]
          },
          "metadata": {}
        },
        {
          "output_type": "execute_result",
          "data": {
            "text/plain": []
          },
          "metadata": {},
          "execution_count": 65
        }
      ],
      "source": [
        "interface.launch(share=True)"
      ]
    },
    {
      "cell_type": "code",
      "execution_count": 65,
      "metadata": {
        "id": "48EgKlh39bK9"
      },
      "outputs": [],
      "source": []
    }
  ],
  "metadata": {
    "accelerator": "GPU",
    "colab": {
      "gpuType": "T4",
      "provenance": []
    },
    "kernelspec": {
      "display_name": "Python 3",
      "name": "python3"
    },
    "language_info": {
      "name": "python"
    }
  },
  "nbformat": 4,
  "nbformat_minor": 0
}